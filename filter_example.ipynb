{
 "cells": [
  {
   "cell_type": "markdown",
   "metadata": {},
   "source": [
    "Example"
   ]
  },
  {
   "cell_type": "code",
   "execution_count": 2,
   "metadata": {},
   "outputs": [],
   "source": [
    "from sentinelsat.sentinel import SentinelAPI, read_geojson, geojson_to_wkt\n",
    "import datetime\n",
    "from datetime import timedelta,time\n",
    "import os\n",
    "import json\n",
    "\n",
    "\n",
    "user = 'user' \n",
    "password = 'password' \n",
    "api = SentinelAPI(user, password)"
   ]
  },
  {
   "cell_type": "code",
   "execution_count": 8,
   "metadata": {},
   "outputs": [],
   "source": [
    "longitude=79.3922483\n",
    "latitude=10.5359267\n",
    "products = api.query('POINT({0} {1})'.format(longitude,latitude),\n",
    "                     date = ('NOW-5DAYS','NOW'),\n",
    "                     platformname = 'Sentinel-2',\n",
    "                     processinglevel = 'Level-2A',\n",
    "                     cloudcoverpercentage=(0, 100)\n",
    "                     )"
   ]
  },
  {
   "cell_type": "code",
   "execution_count": 9,
   "metadata": {},
   "outputs": [
    {
     "data": {
      "text/html": [
       "<div>\n",
       "<style scoped>\n",
       "    .dataframe tbody tr th:only-of-type {\n",
       "        vertical-align: middle;\n",
       "    }\n",
       "\n",
       "    .dataframe tbody tr th {\n",
       "        vertical-align: top;\n",
       "    }\n",
       "\n",
       "    .dataframe thead th {\n",
       "        text-align: right;\n",
       "    }\n",
       "</style>\n",
       "<table border=\"1\" class=\"dataframe\">\n",
       "  <thead>\n",
       "    <tr style=\"text-align: right;\">\n",
       "      <th></th>\n",
       "      <th>title</th>\n",
       "      <th>link</th>\n",
       "      <th>link_alternative</th>\n",
       "      <th>link_icon</th>\n",
       "      <th>summary</th>\n",
       "      <th>ondemand</th>\n",
       "      <th>generationdate</th>\n",
       "      <th>beginposition</th>\n",
       "      <th>endposition</th>\n",
       "      <th>ingestiondate</th>\n",
       "      <th>...</th>\n",
       "      <th>producttype</th>\n",
       "      <th>platformidentifier</th>\n",
       "      <th>orbitdirection</th>\n",
       "      <th>platformserialidentifier</th>\n",
       "      <th>processinglevel</th>\n",
       "      <th>datastripidentifier</th>\n",
       "      <th>granuleidentifier</th>\n",
       "      <th>identifier</th>\n",
       "      <th>uuid</th>\n",
       "      <th>geometry</th>\n",
       "    </tr>\n",
       "  </thead>\n",
       "  <tbody>\n",
       "    <tr>\n",
       "      <th>e72e7ba5-b009-4d9b-8ca4-7df7873485ad</th>\n",
       "      <td>S2A_MSIL2A_20221101T045941_N0400_R119_T44PLS_2...</td>\n",
       "      <td>https://scihub.copernicus.eu/dhus/odata/v1/Pro...</td>\n",
       "      <td>https://scihub.copernicus.eu/dhus/odata/v1/Pro...</td>\n",
       "      <td>https://scihub.copernicus.eu/dhus/odata/v1/Pro...</td>\n",
       "      <td>Date: 2022-11-01T04:59:41.024Z, Instrument: MS...</td>\n",
       "      <td>false</td>\n",
       "      <td>2022-11-01 09:14:57</td>\n",
       "      <td>2022-11-01 04:59:41.024</td>\n",
       "      <td>2022-11-01 04:59:41.024</td>\n",
       "      <td>2022-11-01 11:46:58.411</td>\n",
       "      <td>...</td>\n",
       "      <td>S2MSI2A</td>\n",
       "      <td>2015-028A</td>\n",
       "      <td>DESCENDING</td>\n",
       "      <td>Sentinel-2A</td>\n",
       "      <td>Level-2A</td>\n",
       "      <td>S2A_OPER_MSI_L2A_DS_ATOS_20221101T091457_S2022...</td>\n",
       "      <td>S2A_OPER_MSI_L2A_TL_ATOS_20221101T091457_A0384...</td>\n",
       "      <td>S2A_MSIL2A_20221101T045941_N0400_R119_T44PLS_2...</td>\n",
       "      <td>e72e7ba5-b009-4d9b-8ca4-7df7873485ad</td>\n",
       "      <td>MULTIPOLYGON (((79.17619 9.85748, 80.17735 9.8...</td>\n",
       "    </tr>\n",
       "  </tbody>\n",
       "</table>\n",
       "<p>1 rows × 41 columns</p>\n",
       "</div>"
      ],
      "text/plain": [
       "                                                                                  title  \\\n",
       "e72e7ba5-b009-4d9b-8ca4-7df7873485ad  S2A_MSIL2A_20221101T045941_N0400_R119_T44PLS_2...   \n",
       "\n",
       "                                                                                   link  \\\n",
       "e72e7ba5-b009-4d9b-8ca4-7df7873485ad  https://scihub.copernicus.eu/dhus/odata/v1/Pro...   \n",
       "\n",
       "                                                                       link_alternative  \\\n",
       "e72e7ba5-b009-4d9b-8ca4-7df7873485ad  https://scihub.copernicus.eu/dhus/odata/v1/Pro...   \n",
       "\n",
       "                                                                              link_icon  \\\n",
       "e72e7ba5-b009-4d9b-8ca4-7df7873485ad  https://scihub.copernicus.eu/dhus/odata/v1/Pro...   \n",
       "\n",
       "                                                                                summary  \\\n",
       "e72e7ba5-b009-4d9b-8ca4-7df7873485ad  Date: 2022-11-01T04:59:41.024Z, Instrument: MS...   \n",
       "\n",
       "                                     ondemand      generationdate  \\\n",
       "e72e7ba5-b009-4d9b-8ca4-7df7873485ad    false 2022-11-01 09:14:57   \n",
       "\n",
       "                                               beginposition  \\\n",
       "e72e7ba5-b009-4d9b-8ca4-7df7873485ad 2022-11-01 04:59:41.024   \n",
       "\n",
       "                                                 endposition  \\\n",
       "e72e7ba5-b009-4d9b-8ca4-7df7873485ad 2022-11-01 04:59:41.024   \n",
       "\n",
       "                                               ingestiondate  ...  \\\n",
       "e72e7ba5-b009-4d9b-8ca4-7df7873485ad 2022-11-01 11:46:58.411  ...   \n",
       "\n",
       "                                      producttype  platformidentifier  \\\n",
       "e72e7ba5-b009-4d9b-8ca4-7df7873485ad      S2MSI2A           2015-028A   \n",
       "\n",
       "                                      orbitdirection  \\\n",
       "e72e7ba5-b009-4d9b-8ca4-7df7873485ad      DESCENDING   \n",
       "\n",
       "                                      platformserialidentifier  \\\n",
       "e72e7ba5-b009-4d9b-8ca4-7df7873485ad               Sentinel-2A   \n",
       "\n",
       "                                      processinglevel  \\\n",
       "e72e7ba5-b009-4d9b-8ca4-7df7873485ad         Level-2A   \n",
       "\n",
       "                                                                    datastripidentifier  \\\n",
       "e72e7ba5-b009-4d9b-8ca4-7df7873485ad  S2A_OPER_MSI_L2A_DS_ATOS_20221101T091457_S2022...   \n",
       "\n",
       "                                                                      granuleidentifier  \\\n",
       "e72e7ba5-b009-4d9b-8ca4-7df7873485ad  S2A_OPER_MSI_L2A_TL_ATOS_20221101T091457_A0384...   \n",
       "\n",
       "                                                                             identifier  \\\n",
       "e72e7ba5-b009-4d9b-8ca4-7df7873485ad  S2A_MSIL2A_20221101T045941_N0400_R119_T44PLS_2...   \n",
       "\n",
       "                                                                      uuid  \\\n",
       "e72e7ba5-b009-4d9b-8ca4-7df7873485ad  e72e7ba5-b009-4d9b-8ca4-7df7873485ad   \n",
       "\n",
       "                                                                               geometry  \n",
       "e72e7ba5-b009-4d9b-8ca4-7df7873485ad  MULTIPOLYGON (((79.17619 9.85748, 80.17735 9.8...  \n",
       "\n",
       "[1 rows x 41 columns]"
      ]
     },
     "execution_count": 9,
     "metadata": {},
     "output_type": "execute_result"
    }
   ],
   "source": [
    "products_gdf = api.to_geodataframe(products)\n",
    "products_gdf\n"
   ]
  },
  {
   "cell_type": "code",
   "execution_count": 10,
   "metadata": {},
   "outputs": [],
   "source": [
    "import fnmatch\n",
    "import functools\n",
    "import operator"
   ]
  },
  {
   "cell_type": "markdown",
   "metadata": {},
   "source": [
    "Path Filter example"
   ]
  },
  {
   "cell_type": "code",
   "execution_count": 13,
   "metadata": {},
   "outputs": [],
   "source": [
    "def make_path_filter(pattern, exclude=False):\n",
    "    \"\"\"Generate a nodefilter function to download only files matching the specified pattern.\n",
    "\n",
    "    Parameters\n",
    "    ----------\n",
    "    pattern : str, sequence[str]\n",
    "        glob patter (or sequence of patterns) for files selection\n",
    "    exclude : bool, optional\n",
    "        if set to True then files matching the specified pattern are excluded. Default False.\n",
    "\n",
    "       The `pattern` parameter can also be a list of patterns.\n",
    "    \"\"\"\n",
    "\n",
    "    patterns = [pattern] if isinstance(pattern, str) else pattern\n",
    "\n",
    "    def node_filter(node_info):\n",
    "        match = False\n",
    "        for pattern in patterns:\n",
    "            match = fnmatch.fnmatch(node_info[\"node_path\"], pattern)\n",
    "\n",
    "            if match:\n",
    "                break\n",
    "\n",
    "        return not match if exclude else match\n",
    "\n",
    "    return node_filter"
   ]
  },
  {
   "cell_type": "markdown",
   "metadata": {},
   "source": [
    "Using path filter for a list of patterns"
   ]
  },
  {
   "cell_type": "code",
   "execution_count": 16,
   "metadata": {},
   "outputs": [
    {
     "data": {
      "application/vnd.jupyter.widget-view+json": {
       "model_id": "5716c736ce7f4060abe24d4292d75659",
       "version_major": 2,
       "version_minor": 0
      },
      "text/plain": [
       "Downloading MTD_MSIL2A.xml:   0%|          | 0.00/54.7k [00:00<?, ?B/s]"
      ]
     },
     "metadata": {},
     "output_type": "display_data"
    },
    {
     "data": {
      "application/vnd.jupyter.widget-view+json": {
       "model_id": "4e2ecbfec80142e98d3c5590b23f4206",
       "version_major": 2,
       "version_minor": 0
      },
      "text/plain": [
       "SHA3_256 checksumming:   0%|          | 0.00/54.7k [00:00<?, ?B/s]"
      ]
     },
     "metadata": {},
     "output_type": "display_data"
    },
    {
     "data": {
      "application/vnd.jupyter.widget-view+json": {
       "model_id": "39091f08e09e4237aba181d09af5e8ff",
       "version_major": 2,
       "version_minor": 0
      },
      "text/plain": [
       "Downloading INSPIRE.xml:   0%|          | 0.00/18.6k [00:00<?, ?B/s]"
      ]
     },
     "metadata": {},
     "output_type": "display_data"
    },
    {
     "data": {
      "application/vnd.jupyter.widget-view+json": {
       "model_id": "c122d24f1550455faa7c320583501735",
       "version_major": 2,
       "version_minor": 0
      },
      "text/plain": [
       "SHA3_256 checksumming:   0%|          | 0.00/18.6k [00:00<?, ?B/s]"
      ]
     },
     "metadata": {},
     "output_type": "display_data"
    },
    {
     "data": {
      "application/vnd.jupyter.widget-view+json": {
       "model_id": "860f723a317b4fd18ea8e89aa7a8446f",
       "version_major": 2,
       "version_minor": 0
      },
      "text/plain": [
       "Downloading MTD_DS.xml:   0%|          | 0.00/31.2M [00:00<?, ?B/s]"
      ]
     },
     "metadata": {},
     "output_type": "display_data"
    },
    {
     "data": {
      "application/vnd.jupyter.widget-view+json": {
       "model_id": "685c8cfb543046479f63b6b46e64467f",
       "version_major": 2,
       "version_minor": 0
      },
      "text/plain": [
       "SHA3_256 checksumming:   0%|          | 0.00/31.2M [00:00<?, ?B/s]"
      ]
     },
     "metadata": {},
     "output_type": "display_data"
    },
    {
     "data": {
      "application/vnd.jupyter.widget-view+json": {
       "model_id": "3e49ba0a7329454fab643f62c51dd4f5",
       "version_major": 2,
       "version_minor": 0
      },
      "text/plain": [
       "Downloading FORMAT_CORRECTNESS.xml:   0%|          | 0.00/3.97k [00:00<?, ?B/s]"
      ]
     },
     "metadata": {},
     "output_type": "display_data"
    },
    {
     "data": {
      "application/vnd.jupyter.widget-view+json": {
       "model_id": "0f37949136aa4ed085205e59bf5c2471",
       "version_major": 2,
       "version_minor": 0
      },
      "text/plain": [
       "SHA3_256 checksumming:   0%|          | 0.00/3.97k [00:00<?, ?B/s]"
      ]
     },
     "metadata": {},
     "output_type": "display_data"
    },
    {
     "data": {
      "application/vnd.jupyter.widget-view+json": {
       "model_id": "95b574a31621469f862d2d7cffedeb60",
       "version_major": 2,
       "version_minor": 0
      },
      "text/plain": [
       "Downloading GENERAL_QUALITY.xml:   0%|          | 0.00/5.72k [00:00<?, ?B/s]"
      ]
     },
     "metadata": {},
     "output_type": "display_data"
    },
    {
     "data": {
      "application/vnd.jupyter.widget-view+json": {
       "model_id": "99d7b496cd8647fda1288be88eb93a53",
       "version_major": 2,
       "version_minor": 0
      },
      "text/plain": [
       "SHA3_256 checksumming:   0%|          | 0.00/5.72k [00:00<?, ?B/s]"
      ]
     },
     "metadata": {},
     "output_type": "display_data"
    },
    {
     "data": {
      "application/vnd.jupyter.widget-view+json": {
       "model_id": "efc583d42ce34ce3a5cc8ffc604e4ed2",
       "version_major": 2,
       "version_minor": 0
      },
      "text/plain": [
       "Downloading GEOMETRIC_QUALITY.xml:   0%|          | 0.00/8.12k [00:00<?, ?B/s]"
      ]
     },
     "metadata": {},
     "output_type": "display_data"
    },
    {
     "data": {
      "application/vnd.jupyter.widget-view+json": {
       "model_id": "1dac6efb8ba647429a6e940733374447",
       "version_major": 2,
       "version_minor": 0
      },
      "text/plain": [
       "SHA3_256 checksumming:   0%|          | 0.00/8.12k [00:00<?, ?B/s]"
      ]
     },
     "metadata": {},
     "output_type": "display_data"
    },
    {
     "data": {
      "application/vnd.jupyter.widget-view+json": {
       "model_id": "ff0c6fa79f5d4807bbabe63777543e3a",
       "version_major": 2,
       "version_minor": 0
      },
      "text/plain": [
       "Downloading RADIOMETRIC_QUALITY.xml:   0%|          | 0.00/7.07k [00:00<?, ?B/s]"
      ]
     },
     "metadata": {},
     "output_type": "display_data"
    },
    {
     "data": {
      "application/vnd.jupyter.widget-view+json": {
       "model_id": "43469afa38184380837fb68ad4875044",
       "version_major": 2,
       "version_minor": 0
      },
      "text/plain": [
       "SHA3_256 checksumming:   0%|          | 0.00/7.07k [00:00<?, ?B/s]"
      ]
     },
     "metadata": {},
     "output_type": "display_data"
    },
    {
     "data": {
      "application/vnd.jupyter.widget-view+json": {
       "model_id": "4b87260ccc4e4d9989465d49fa55f8d6",
       "version_major": 2,
       "version_minor": 0
      },
      "text/plain": [
       "Downloading SENSOR_QUALITY.xml:   0%|          | 0.00/4.38k [00:00<?, ?B/s]"
      ]
     },
     "metadata": {},
     "output_type": "display_data"
    },
    {
     "data": {
      "application/vnd.jupyter.widget-view+json": {
       "model_id": "1541d579613647ee924ec27fc32691fa",
       "version_major": 2,
       "version_minor": 0
      },
      "text/plain": [
       "SHA3_256 checksumming:   0%|          | 0.00/4.38k [00:00<?, ?B/s]"
      ]
     },
     "metadata": {},
     "output_type": "display_data"
    },
    {
     "data": {
      "application/vnd.jupyter.widget-view+json": {
       "model_id": "a4366fa723ca46c68a9fe058ffa2d994",
       "version_major": 2,
       "version_minor": 0
      },
      "text/plain": [
       "Downloading T44PLS_20221101T045941_B02_10m.jp2:   0%|          | 0.00/101M [00:00<?, ?B/s]"
      ]
     },
     "metadata": {},
     "output_type": "display_data"
    },
    {
     "data": {
      "application/vnd.jupyter.widget-view+json": {
       "model_id": "f2e6e0e60dea492b93e2d27611b8868e",
       "version_major": 2,
       "version_minor": 0
      },
      "text/plain": [
       "SHA3_256 checksumming:   0%|          | 0.00/101M [00:00<?, ?B/s]"
      ]
     },
     "metadata": {},
     "output_type": "display_data"
    },
    {
     "data": {
      "application/vnd.jupyter.widget-view+json": {
       "model_id": "1693cf67b21b463ebe9dc0d4688f402b",
       "version_major": 2,
       "version_minor": 0
      },
      "text/plain": [
       "Downloading MTD_TL.xml:   0%|          | 0.00/548k [00:00<?, ?B/s]"
      ]
     },
     "metadata": {},
     "output_type": "display_data"
    },
    {
     "data": {
      "application/vnd.jupyter.widget-view+json": {
       "model_id": "834128eb20e74bc5969f96f412ec8683",
       "version_major": 2,
       "version_minor": 0
      },
      "text/plain": [
       "SHA3_256 checksumming:   0%|          | 0.00/548k [00:00<?, ?B/s]"
      ]
     },
     "metadata": {},
     "output_type": "display_data"
    },
    {
     "data": {
      "application/vnd.jupyter.widget-view+json": {
       "model_id": "d1f01ee7ed3f47a9bbd468715f2ada44",
       "version_major": 2,
       "version_minor": 0
      },
      "text/plain": [
       "Downloading FORMAT_CORRECTNESS.xml:   0%|          | 0.00/7.93k [00:00<?, ?B/s]"
      ]
     },
     "metadata": {},
     "output_type": "display_data"
    },
    {
     "data": {
      "application/vnd.jupyter.widget-view+json": {
       "model_id": "fd5a8c8bbd374f9da2b2c3065a4f55bb",
       "version_major": 2,
       "version_minor": 0
      },
      "text/plain": [
       "SHA3_256 checksumming:   0%|          | 0.00/7.93k [00:00<?, ?B/s]"
      ]
     },
     "metadata": {},
     "output_type": "display_data"
    },
    {
     "data": {
      "application/vnd.jupyter.widget-view+json": {
       "model_id": "f984c423a21d4a96a46d41ec091842b2",
       "version_major": 2,
       "version_minor": 0
      },
      "text/plain": [
       "Downloading GENERAL_QUALITY.xml:   0%|          | 0.00/4.04k [00:00<?, ?B/s]"
      ]
     },
     "metadata": {},
     "output_type": "display_data"
    },
    {
     "data": {
      "application/vnd.jupyter.widget-view+json": {
       "model_id": "ae6ae29e52b84aee80637bb2674a9f9b",
       "version_major": 2,
       "version_minor": 0
      },
      "text/plain": [
       "SHA3_256 checksumming:   0%|          | 0.00/4.04k [00:00<?, ?B/s]"
      ]
     },
     "metadata": {},
     "output_type": "display_data"
    },
    {
     "data": {
      "application/vnd.jupyter.widget-view+json": {
       "model_id": "fcb20fc439c04e1fa776b1814ecbdb64",
       "version_major": 2,
       "version_minor": 0
      },
      "text/plain": [
       "Downloading GEOMETRIC_QUALITY.xml:   0%|          | 0.00/4.89k [00:00<?, ?B/s]"
      ]
     },
     "metadata": {},
     "output_type": "display_data"
    },
    {
     "data": {
      "application/vnd.jupyter.widget-view+json": {
       "model_id": "3abffe38dbef46daa2554d29b1b81d64",
       "version_major": 2,
       "version_minor": 0
      },
      "text/plain": [
       "SHA3_256 checksumming:   0%|          | 0.00/4.89k [00:00<?, ?B/s]"
      ]
     },
     "metadata": {},
     "output_type": "display_data"
    },
    {
     "data": {
      "application/vnd.jupyter.widget-view+json": {
       "model_id": "98c6eb0709534560b523370e99b1c332",
       "version_major": 2,
       "version_minor": 0
      },
      "text/plain": [
       "Downloading L2A_QUALITY.xml:   0%|          | 0.00/7.60k [00:00<?, ?B/s]"
      ]
     },
     "metadata": {},
     "output_type": "display_data"
    },
    {
     "data": {
      "application/vnd.jupyter.widget-view+json": {
       "model_id": "d6d4919b49054b07aa23d78f141120a7",
       "version_major": 2,
       "version_minor": 0
      },
      "text/plain": [
       "SHA3_256 checksumming:   0%|          | 0.00/7.60k [00:00<?, ?B/s]"
      ]
     },
     "metadata": {},
     "output_type": "display_data"
    },
    {
     "data": {
      "application/vnd.jupyter.widget-view+json": {
       "model_id": "05af122ddc9f4c1fa0dcd7d908b97e47",
       "version_major": 2,
       "version_minor": 0
      },
      "text/plain": [
       "Downloading SENSOR_QUALITY.xml:   0%|          | 0.00/3.27k [00:00<?, ?B/s]"
      ]
     },
     "metadata": {},
     "output_type": "display_data"
    },
    {
     "data": {
      "application/vnd.jupyter.widget-view+json": {
       "model_id": "09b8eea1c8c04950a8f539d8aa732fd6",
       "version_major": 2,
       "version_minor": 0
      },
      "text/plain": [
       "SHA3_256 checksumming:   0%|          | 0.00/3.27k [00:00<?, ?B/s]"
      ]
     },
     "metadata": {},
     "output_type": "display_data"
    },
    {
     "data": {
      "text/plain": [
       "{'id': 'e72e7ba5-b009-4d9b-8ca4-7df7873485ad',\n",
       " 'title': 'S2A_MSIL2A_20221101T045941_N0400_R119_T44PLS_20221101T091457',\n",
       " 'size': 705614197,\n",
       " 'md5': '1e36666ca88ee135f00677251cce399a',\n",
       " 'date': datetime.datetime(2022, 11, 1, 4, 59, 41, 24000),\n",
       " 'footprint': 'POLYGON((79.17044276734362 10.850043609987958,80.1747533016957 10.854374836688937,80.17734657695293 9.861405801695572,79.17618891454158 9.857478810184183,79.17044276734362 10.850043609987958))',\n",
       " 'url': \"https://scihub.copernicus.eu/dhus/odata/v1/Products('e72e7ba5-b009-4d9b-8ca4-7df7873485ad')/$value\",\n",
       " 'Online': True,\n",
       " 'Creation Date': datetime.datetime(2022, 11, 1, 11, 47, 6, 627000),\n",
       " 'Ingestion Date': datetime.datetime(2022, 11, 1, 11, 46, 58, 411000),\n",
       " 'quicklook_url': \"https://scihub.copernicus.eu/dhus/odata/v1/Products('e72e7ba5-b009-4d9b-8ca4-7df7873485ad')/Products('Quicklook')/$value\",\n",
       " 'node_path': './S2A_MSIL2A_20221101T045941_N0400_R119_T44PLS_20221101T091457.SAFE',\n",
       " 'nodes': {'./manifest.safe': {'id': 'e72e7ba5-b009-4d9b-8ca4-7df7873485ad',\n",
       "   'title': 'S2A_MSIL2A_20221101T045941_N0400_R119_T44PLS_20221101T091457',\n",
       "   'size': 68874,\n",
       "   'date': datetime.datetime(2022, 11, 1, 4, 59, 41, 24000),\n",
       "   'footprint': 'POLYGON((79.17044276734362 10.850043609987958,80.1747533016957 10.854374836688937,80.17734657695293 9.861405801695572,79.17618891454158 9.857478810184183,79.17044276734362 10.850043609987958))',\n",
       "   'url': \"https://scihub.copernicus.eu/dhus/odata/v1/Products('e72e7ba5-b009-4d9b-8ca4-7df7873485ad')/Nodes('S2A_MSIL2A_20221101T045941_N0400_R119_T44PLS_20221101T091457.SAFE')/Nodes('manifest.safe')/$value\",\n",
       "   'Online': True,\n",
       "   'Creation Date': datetime.datetime(2022, 11, 1, 11, 47, 6, 627000),\n",
       "   'Ingestion Date': datetime.datetime(2022, 11, 1, 11, 46, 58, 411000),\n",
       "   'quicklook_url': \"https://scihub.copernicus.eu/dhus/odata/v1/Products('e72e7ba5-b009-4d9b-8ca4-7df7873485ad')/Products('Quicklook')/$value\",\n",
       "   'node_path': './manifest.safe'},\n",
       "  './MTD_MSIL2A.xml': {'id': 'e72e7ba5-b009-4d9b-8ca4-7df7873485ad',\n",
       "   'title': 'S2A_MSIL2A_20221101T045941_N0400_R119_T44PLS_20221101T091457',\n",
       "   'size': 54692,\n",
       "   'md5': '1e36666ca88ee135f00677251cce399a',\n",
       "   'date': datetime.datetime(2022, 11, 1, 4, 59, 41, 24000),\n",
       "   'footprint': 'POLYGON((79.17044276734362 10.850043609987958,80.1747533016957 10.854374836688937,80.17734657695293 9.861405801695572,79.17618891454158 9.857478810184183,79.17044276734362 10.850043609987958))',\n",
       "   'url': \"https://scihub.copernicus.eu/dhus/odata/v1/Products('e72e7ba5-b009-4d9b-8ca4-7df7873485ad')/Nodes('S2A_MSIL2A_20221101T045941_N0400_R119_T44PLS_20221101T091457.SAFE')/Nodes('MTD_MSIL2A.xml')/$value\",\n",
       "   'Online': True,\n",
       "   'Creation Date': datetime.datetime(2022, 11, 1, 11, 47, 6, 627000),\n",
       "   'Ingestion Date': datetime.datetime(2022, 11, 1, 11, 46, 58, 411000),\n",
       "   'quicklook_url': \"https://scihub.copernicus.eu/dhus/odata/v1/Products('e72e7ba5-b009-4d9b-8ca4-7df7873485ad')/Products('Quicklook')/$value\",\n",
       "   'node_path': './MTD_MSIL2A.xml',\n",
       "   'nodes': {...},\n",
       "   'sha3-256': 'bf9b7ac7d80aa4b4da4cd24a48c49776c334a0786af79c0c159536869f95ce78',\n",
       "   'path': PosixPath('/Users/chetan/PycharmProjects/cogs/S2A_MSIL2A_20221101T045941_N0400_R119_T44PLS_20221101T091457.SAFE/MTD_MSIL2A.xml'),\n",
       "   'downloaded_bytes': 54692},\n",
       "  './INSPIRE.xml': {'id': 'e72e7ba5-b009-4d9b-8ca4-7df7873485ad',\n",
       "   'title': 'S2A_MSIL2A_20221101T045941_N0400_R119_T44PLS_20221101T091457',\n",
       "   'size': 18644,\n",
       "   'md5': '1e36666ca88ee135f00677251cce399a',\n",
       "   'date': datetime.datetime(2022, 11, 1, 4, 59, 41, 24000),\n",
       "   'footprint': 'POLYGON((79.17044276734362 10.850043609987958,80.1747533016957 10.854374836688937,80.17734657695293 9.861405801695572,79.17618891454158 9.857478810184183,79.17044276734362 10.850043609987958))',\n",
       "   'url': \"https://scihub.copernicus.eu/dhus/odata/v1/Products('e72e7ba5-b009-4d9b-8ca4-7df7873485ad')/Nodes('S2A_MSIL2A_20221101T045941_N0400_R119_T44PLS_20221101T091457.SAFE')/Nodes('INSPIRE.xml')/$value\",\n",
       "   'Online': True,\n",
       "   'Creation Date': datetime.datetime(2022, 11, 1, 11, 47, 6, 627000),\n",
       "   'Ingestion Date': datetime.datetime(2022, 11, 1, 11, 46, 58, 411000),\n",
       "   'quicklook_url': \"https://scihub.copernicus.eu/dhus/odata/v1/Products('e72e7ba5-b009-4d9b-8ca4-7df7873485ad')/Products('Quicklook')/$value\",\n",
       "   'node_path': './INSPIRE.xml',\n",
       "   'nodes': {...},\n",
       "   'sha3-256': '1978887b0116385e43cd7df1b715861ba02a59d639d943df09eaabec968e7a35',\n",
       "   'path': PosixPath('/Users/chetan/PycharmProjects/cogs/S2A_MSIL2A_20221101T045941_N0400_R119_T44PLS_20221101T091457.SAFE/INSPIRE.xml'),\n",
       "   'downloaded_bytes': 18644},\n",
       "  './DATASTRIP/DS_ATOS_20221101T091457_S20221101T045941/MTD_DS.xml': {'id': 'e72e7ba5-b009-4d9b-8ca4-7df7873485ad',\n",
       "   'title': 'S2A_MSIL2A_20221101T045941_N0400_R119_T44PLS_20221101T091457',\n",
       "   'size': 31161577,\n",
       "   'md5': '1e36666ca88ee135f00677251cce399a',\n",
       "   'date': datetime.datetime(2022, 11, 1, 4, 59, 41, 24000),\n",
       "   'footprint': 'POLYGON((79.17044276734362 10.850043609987958,80.1747533016957 10.854374836688937,80.17734657695293 9.861405801695572,79.17618891454158 9.857478810184183,79.17044276734362 10.850043609987958))',\n",
       "   'url': \"https://scihub.copernicus.eu/dhus/odata/v1/Products('e72e7ba5-b009-4d9b-8ca4-7df7873485ad')/Nodes('S2A_MSIL2A_20221101T045941_N0400_R119_T44PLS_20221101T091457.SAFE')/Nodes('DATASTRIP')/Nodes('DS_ATOS_20221101T091457_S20221101T045941')/Nodes('MTD_DS.xml')/$value\",\n",
       "   'Online': True,\n",
       "   'Creation Date': datetime.datetime(2022, 11, 1, 11, 47, 6, 627000),\n",
       "   'Ingestion Date': datetime.datetime(2022, 11, 1, 11, 46, 58, 411000),\n",
       "   'quicklook_url': \"https://scihub.copernicus.eu/dhus/odata/v1/Products('e72e7ba5-b009-4d9b-8ca4-7df7873485ad')/Products('Quicklook')/$value\",\n",
       "   'node_path': './DATASTRIP/DS_ATOS_20221101T091457_S20221101T045941/MTD_DS.xml',\n",
       "   'nodes': {...},\n",
       "   'sha3-256': 'F475868D991DCBD98A22BD0052B64B169233FF40984A5540D79183E16BC54ACE',\n",
       "   'path': PosixPath('/Users/chetan/PycharmProjects/cogs/S2A_MSIL2A_20221101T045941_N0400_R119_T44PLS_20221101T091457.SAFE/DATASTRIP/DS_ATOS_20221101T091457_S20221101T045941/MTD_DS.xml'),\n",
       "   'downloaded_bytes': 31161577},\n",
       "  './DATASTRIP/DS_ATOS_20221101T091457_S20221101T045941/QI_DATA/FORMAT_CORRECTNESS.xml': {'id': 'e72e7ba5-b009-4d9b-8ca4-7df7873485ad',\n",
       "   'title': 'S2A_MSIL2A_20221101T045941_N0400_R119_T44PLS_20221101T091457',\n",
       "   'size': 3970,\n",
       "   'md5': '1e36666ca88ee135f00677251cce399a',\n",
       "   'date': datetime.datetime(2022, 11, 1, 4, 59, 41, 24000),\n",
       "   'footprint': 'POLYGON((79.17044276734362 10.850043609987958,80.1747533016957 10.854374836688937,80.17734657695293 9.861405801695572,79.17618891454158 9.857478810184183,79.17044276734362 10.850043609987958))',\n",
       "   'url': \"https://scihub.copernicus.eu/dhus/odata/v1/Products('e72e7ba5-b009-4d9b-8ca4-7df7873485ad')/Nodes('S2A_MSIL2A_20221101T045941_N0400_R119_T44PLS_20221101T091457.SAFE')/Nodes('DATASTRIP')/Nodes('DS_ATOS_20221101T091457_S20221101T045941')/Nodes('QI_DATA')/Nodes('FORMAT_CORRECTNESS.xml')/$value\",\n",
       "   'Online': True,\n",
       "   'Creation Date': datetime.datetime(2022, 11, 1, 11, 47, 6, 627000),\n",
       "   'Ingestion Date': datetime.datetime(2022, 11, 1, 11, 46, 58, 411000),\n",
       "   'quicklook_url': \"https://scihub.copernicus.eu/dhus/odata/v1/Products('e72e7ba5-b009-4d9b-8ca4-7df7873485ad')/Products('Quicklook')/$value\",\n",
       "   'node_path': './DATASTRIP/DS_ATOS_20221101T091457_S20221101T045941/QI_DATA/FORMAT_CORRECTNESS.xml',\n",
       "   'nodes': {...},\n",
       "   'sha3-256': '728413c81b088deaa41391bb31672763b9c172cb492c373d114fbf83560bc70d',\n",
       "   'path': PosixPath('/Users/chetan/PycharmProjects/cogs/S2A_MSIL2A_20221101T045941_N0400_R119_T44PLS_20221101T091457.SAFE/DATASTRIP/DS_ATOS_20221101T091457_S20221101T045941/QI_DATA/FORMAT_CORRECTNESS.xml'),\n",
       "   'downloaded_bytes': 3970},\n",
       "  './DATASTRIP/DS_ATOS_20221101T091457_S20221101T045941/QI_DATA/GENERAL_QUALITY.xml': {'id': 'e72e7ba5-b009-4d9b-8ca4-7df7873485ad',\n",
       "   'title': 'S2A_MSIL2A_20221101T045941_N0400_R119_T44PLS_20221101T091457',\n",
       "   'size': 5718,\n",
       "   'md5': '1e36666ca88ee135f00677251cce399a',\n",
       "   'date': datetime.datetime(2022, 11, 1, 4, 59, 41, 24000),\n",
       "   'footprint': 'POLYGON((79.17044276734362 10.850043609987958,80.1747533016957 10.854374836688937,80.17734657695293 9.861405801695572,79.17618891454158 9.857478810184183,79.17044276734362 10.850043609987958))',\n",
       "   'url': \"https://scihub.copernicus.eu/dhus/odata/v1/Products('e72e7ba5-b009-4d9b-8ca4-7df7873485ad')/Nodes('S2A_MSIL2A_20221101T045941_N0400_R119_T44PLS_20221101T091457.SAFE')/Nodes('DATASTRIP')/Nodes('DS_ATOS_20221101T091457_S20221101T045941')/Nodes('QI_DATA')/Nodes('GENERAL_QUALITY.xml')/$value\",\n",
       "   'Online': True,\n",
       "   'Creation Date': datetime.datetime(2022, 11, 1, 11, 47, 6, 627000),\n",
       "   'Ingestion Date': datetime.datetime(2022, 11, 1, 11, 46, 58, 411000),\n",
       "   'quicklook_url': \"https://scihub.copernicus.eu/dhus/odata/v1/Products('e72e7ba5-b009-4d9b-8ca4-7df7873485ad')/Products('Quicklook')/$value\",\n",
       "   'node_path': './DATASTRIP/DS_ATOS_20221101T091457_S20221101T045941/QI_DATA/GENERAL_QUALITY.xml',\n",
       "   'nodes': {...},\n",
       "   'sha3-256': '201dd7a2598c1e5033f1b2dce55c4880597b0a4c8b936247c9a4ed6b2b63f377',\n",
       "   'path': PosixPath('/Users/chetan/PycharmProjects/cogs/S2A_MSIL2A_20221101T045941_N0400_R119_T44PLS_20221101T091457.SAFE/DATASTRIP/DS_ATOS_20221101T091457_S20221101T045941/QI_DATA/GENERAL_QUALITY.xml'),\n",
       "   'downloaded_bytes': 5718},\n",
       "  './DATASTRIP/DS_ATOS_20221101T091457_S20221101T045941/QI_DATA/GEOMETRIC_QUALITY.xml': {'id': 'e72e7ba5-b009-4d9b-8ca4-7df7873485ad',\n",
       "   'title': 'S2A_MSIL2A_20221101T045941_N0400_R119_T44PLS_20221101T091457',\n",
       "   'size': 8122,\n",
       "   'md5': '1e36666ca88ee135f00677251cce399a',\n",
       "   'date': datetime.datetime(2022, 11, 1, 4, 59, 41, 24000),\n",
       "   'footprint': 'POLYGON((79.17044276734362 10.850043609987958,80.1747533016957 10.854374836688937,80.17734657695293 9.861405801695572,79.17618891454158 9.857478810184183,79.17044276734362 10.850043609987958))',\n",
       "   'url': \"https://scihub.copernicus.eu/dhus/odata/v1/Products('e72e7ba5-b009-4d9b-8ca4-7df7873485ad')/Nodes('S2A_MSIL2A_20221101T045941_N0400_R119_T44PLS_20221101T091457.SAFE')/Nodes('DATASTRIP')/Nodes('DS_ATOS_20221101T091457_S20221101T045941')/Nodes('QI_DATA')/Nodes('GEOMETRIC_QUALITY.xml')/$value\",\n",
       "   'Online': True,\n",
       "   'Creation Date': datetime.datetime(2022, 11, 1, 11, 47, 6, 627000),\n",
       "   'Ingestion Date': datetime.datetime(2022, 11, 1, 11, 46, 58, 411000),\n",
       "   'quicklook_url': \"https://scihub.copernicus.eu/dhus/odata/v1/Products('e72e7ba5-b009-4d9b-8ca4-7df7873485ad')/Products('Quicklook')/$value\",\n",
       "   'node_path': './DATASTRIP/DS_ATOS_20221101T091457_S20221101T045941/QI_DATA/GEOMETRIC_QUALITY.xml',\n",
       "   'nodes': {...},\n",
       "   'sha3-256': '2faca2d08125f3b27bbc70dae333ce4deba6bc3fd92f3e901103dd0e884ef38f',\n",
       "   'path': PosixPath('/Users/chetan/PycharmProjects/cogs/S2A_MSIL2A_20221101T045941_N0400_R119_T44PLS_20221101T091457.SAFE/DATASTRIP/DS_ATOS_20221101T091457_S20221101T045941/QI_DATA/GEOMETRIC_QUALITY.xml'),\n",
       "   'downloaded_bytes': 8122},\n",
       "  './DATASTRIP/DS_ATOS_20221101T091457_S20221101T045941/QI_DATA/RADIOMETRIC_QUALITY.xml': {'id': 'e72e7ba5-b009-4d9b-8ca4-7df7873485ad',\n",
       "   'title': 'S2A_MSIL2A_20221101T045941_N0400_R119_T44PLS_20221101T091457',\n",
       "   'size': 7068,\n",
       "   'md5': '1e36666ca88ee135f00677251cce399a',\n",
       "   'date': datetime.datetime(2022, 11, 1, 4, 59, 41, 24000),\n",
       "   'footprint': 'POLYGON((79.17044276734362 10.850043609987958,80.1747533016957 10.854374836688937,80.17734657695293 9.861405801695572,79.17618891454158 9.857478810184183,79.17044276734362 10.850043609987958))',\n",
       "   'url': \"https://scihub.copernicus.eu/dhus/odata/v1/Products('e72e7ba5-b009-4d9b-8ca4-7df7873485ad')/Nodes('S2A_MSIL2A_20221101T045941_N0400_R119_T44PLS_20221101T091457.SAFE')/Nodes('DATASTRIP')/Nodes('DS_ATOS_20221101T091457_S20221101T045941')/Nodes('QI_DATA')/Nodes('RADIOMETRIC_QUALITY.xml')/$value\",\n",
       "   'Online': True,\n",
       "   'Creation Date': datetime.datetime(2022, 11, 1, 11, 47, 6, 627000),\n",
       "   'Ingestion Date': datetime.datetime(2022, 11, 1, 11, 46, 58, 411000),\n",
       "   'quicklook_url': \"https://scihub.copernicus.eu/dhus/odata/v1/Products('e72e7ba5-b009-4d9b-8ca4-7df7873485ad')/Products('Quicklook')/$value\",\n",
       "   'node_path': './DATASTRIP/DS_ATOS_20221101T091457_S20221101T045941/QI_DATA/RADIOMETRIC_QUALITY.xml',\n",
       "   'nodes': {...},\n",
       "   'sha3-256': '755e96f53a0e0a8a923e3e2f9c1d3abd683fa7f6eccc81b6c8ca104eca46921d',\n",
       "   'path': PosixPath('/Users/chetan/PycharmProjects/cogs/S2A_MSIL2A_20221101T045941_N0400_R119_T44PLS_20221101T091457.SAFE/DATASTRIP/DS_ATOS_20221101T091457_S20221101T045941/QI_DATA/RADIOMETRIC_QUALITY.xml'),\n",
       "   'downloaded_bytes': 7068},\n",
       "  './DATASTRIP/DS_ATOS_20221101T091457_S20221101T045941/QI_DATA/SENSOR_QUALITY.xml': {'id': 'e72e7ba5-b009-4d9b-8ca4-7df7873485ad',\n",
       "   'title': 'S2A_MSIL2A_20221101T045941_N0400_R119_T44PLS_20221101T091457',\n",
       "   'size': 4382,\n",
       "   'md5': '1e36666ca88ee135f00677251cce399a',\n",
       "   'date': datetime.datetime(2022, 11, 1, 4, 59, 41, 24000),\n",
       "   'footprint': 'POLYGON((79.17044276734362 10.850043609987958,80.1747533016957 10.854374836688937,80.17734657695293 9.861405801695572,79.17618891454158 9.857478810184183,79.17044276734362 10.850043609987958))',\n",
       "   'url': \"https://scihub.copernicus.eu/dhus/odata/v1/Products('e72e7ba5-b009-4d9b-8ca4-7df7873485ad')/Nodes('S2A_MSIL2A_20221101T045941_N0400_R119_T44PLS_20221101T091457.SAFE')/Nodes('DATASTRIP')/Nodes('DS_ATOS_20221101T091457_S20221101T045941')/Nodes('QI_DATA')/Nodes('SENSOR_QUALITY.xml')/$value\",\n",
       "   'Online': True,\n",
       "   'Creation Date': datetime.datetime(2022, 11, 1, 11, 47, 6, 627000),\n",
       "   'Ingestion Date': datetime.datetime(2022, 11, 1, 11, 46, 58, 411000),\n",
       "   'quicklook_url': \"https://scihub.copernicus.eu/dhus/odata/v1/Products('e72e7ba5-b009-4d9b-8ca4-7df7873485ad')/Products('Quicklook')/$value\",\n",
       "   'node_path': './DATASTRIP/DS_ATOS_20221101T091457_S20221101T045941/QI_DATA/SENSOR_QUALITY.xml',\n",
       "   'nodes': {...},\n",
       "   'sha3-256': 'd134627a7c65ff19e2e69b9bd47cd38683005fb918634d485d4fb695a4e8437d',\n",
       "   'path': PosixPath('/Users/chetan/PycharmProjects/cogs/S2A_MSIL2A_20221101T045941_N0400_R119_T44PLS_20221101T091457.SAFE/DATASTRIP/DS_ATOS_20221101T091457_S20221101T045941/QI_DATA/SENSOR_QUALITY.xml'),\n",
       "   'downloaded_bytes': 4382},\n",
       "  './GRANULE/L2A_T44PLS_A038440_20221101T045941/IMG_DATA/R10m/T44PLS_20221101T045941_B02_10m.jp2': {'id': 'e72e7ba5-b009-4d9b-8ca4-7df7873485ad',\n",
       "   'title': 'S2A_MSIL2A_20221101T045941_N0400_R119_T44PLS_20221101T091457',\n",
       "   'size': 100544041,\n",
       "   'md5': '1e36666ca88ee135f00677251cce399a',\n",
       "   'date': datetime.datetime(2022, 11, 1, 4, 59, 41, 24000),\n",
       "   'footprint': 'POLYGON((79.17044276734362 10.850043609987958,80.1747533016957 10.854374836688937,80.17734657695293 9.861405801695572,79.17618891454158 9.857478810184183,79.17044276734362 10.850043609987958))',\n",
       "   'url': \"https://scihub.copernicus.eu/dhus/odata/v1/Products('e72e7ba5-b009-4d9b-8ca4-7df7873485ad')/Nodes('S2A_MSIL2A_20221101T045941_N0400_R119_T44PLS_20221101T091457.SAFE')/Nodes('GRANULE')/Nodes('L2A_T44PLS_A038440_20221101T045941')/Nodes('IMG_DATA')/Nodes('R10m')/Nodes('T44PLS_20221101T045941_B02_10m.jp2')/$value\",\n",
       "   'Online': True,\n",
       "   'Creation Date': datetime.datetime(2022, 11, 1, 11, 47, 6, 627000),\n",
       "   'Ingestion Date': datetime.datetime(2022, 11, 1, 11, 46, 58, 411000),\n",
       "   'quicklook_url': \"https://scihub.copernicus.eu/dhus/odata/v1/Products('e72e7ba5-b009-4d9b-8ca4-7df7873485ad')/Products('Quicklook')/$value\",\n",
       "   'node_path': './GRANULE/L2A_T44PLS_A038440_20221101T045941/IMG_DATA/R10m/T44PLS_20221101T045941_B02_10m.jp2',\n",
       "   'nodes': {...},\n",
       "   'sha3-256': '0A94AB9857A4F055E355761E5426CA1F37D29EE178ACEDD55E1FEB112FD23B89',\n",
       "   'path': PosixPath('/Users/chetan/PycharmProjects/cogs/S2A_MSIL2A_20221101T045941_N0400_R119_T44PLS_20221101T091457.SAFE/GRANULE/L2A_T44PLS_A038440_20221101T045941/IMG_DATA/R10m/T44PLS_20221101T045941_B02_10m.jp2'),\n",
       "   'downloaded_bytes': 100544041},\n",
       "  './GRANULE/L2A_T44PLS_A038440_20221101T045941/MTD_TL.xml': {'id': 'e72e7ba5-b009-4d9b-8ca4-7df7873485ad',\n",
       "   'title': 'S2A_MSIL2A_20221101T045941_N0400_R119_T44PLS_20221101T091457',\n",
       "   'size': 548346,\n",
       "   'md5': '1e36666ca88ee135f00677251cce399a',\n",
       "   'date': datetime.datetime(2022, 11, 1, 4, 59, 41, 24000),\n",
       "   'footprint': 'POLYGON((79.17044276734362 10.850043609987958,80.1747533016957 10.854374836688937,80.17734657695293 9.861405801695572,79.17618891454158 9.857478810184183,79.17044276734362 10.850043609987958))',\n",
       "   'url': \"https://scihub.copernicus.eu/dhus/odata/v1/Products('e72e7ba5-b009-4d9b-8ca4-7df7873485ad')/Nodes('S2A_MSIL2A_20221101T045941_N0400_R119_T44PLS_20221101T091457.SAFE')/Nodes('GRANULE')/Nodes('L2A_T44PLS_A038440_20221101T045941')/Nodes('MTD_TL.xml')/$value\",\n",
       "   'Online': True,\n",
       "   'Creation Date': datetime.datetime(2022, 11, 1, 11, 47, 6, 627000),\n",
       "   'Ingestion Date': datetime.datetime(2022, 11, 1, 11, 46, 58, 411000),\n",
       "   'quicklook_url': \"https://scihub.copernicus.eu/dhus/odata/v1/Products('e72e7ba5-b009-4d9b-8ca4-7df7873485ad')/Products('Quicklook')/$value\",\n",
       "   'node_path': './GRANULE/L2A_T44PLS_A038440_20221101T045941/MTD_TL.xml',\n",
       "   'nodes': {...},\n",
       "   'sha3-256': '9b6398004bc1d03b7e7662a4c2f8da7acd7c4c05425307a48c3c84c4e6f4818e',\n",
       "   'path': PosixPath('/Users/chetan/PycharmProjects/cogs/S2A_MSIL2A_20221101T045941_N0400_R119_T44PLS_20221101T091457.SAFE/GRANULE/L2A_T44PLS_A038440_20221101T045941/MTD_TL.xml'),\n",
       "   'downloaded_bytes': 548346},\n",
       "  './GRANULE/L2A_T44PLS_A038440_20221101T045941/QI_DATA/FORMAT_CORRECTNESS.xml': {'id': 'e72e7ba5-b009-4d9b-8ca4-7df7873485ad',\n",
       "   'title': 'S2A_MSIL2A_20221101T045941_N0400_R119_T44PLS_20221101T091457',\n",
       "   'size': 7928,\n",
       "   'md5': '1e36666ca88ee135f00677251cce399a',\n",
       "   'date': datetime.datetime(2022, 11, 1, 4, 59, 41, 24000),\n",
       "   'footprint': 'POLYGON((79.17044276734362 10.850043609987958,80.1747533016957 10.854374836688937,80.17734657695293 9.861405801695572,79.17618891454158 9.857478810184183,79.17044276734362 10.850043609987958))',\n",
       "   'url': \"https://scihub.copernicus.eu/dhus/odata/v1/Products('e72e7ba5-b009-4d9b-8ca4-7df7873485ad')/Nodes('S2A_MSIL2A_20221101T045941_N0400_R119_T44PLS_20221101T091457.SAFE')/Nodes('GRANULE')/Nodes('L2A_T44PLS_A038440_20221101T045941')/Nodes('QI_DATA')/Nodes('FORMAT_CORRECTNESS.xml')/$value\",\n",
       "   'Online': True,\n",
       "   'Creation Date': datetime.datetime(2022, 11, 1, 11, 47, 6, 627000),\n",
       "   'Ingestion Date': datetime.datetime(2022, 11, 1, 11, 46, 58, 411000),\n",
       "   'quicklook_url': \"https://scihub.copernicus.eu/dhus/odata/v1/Products('e72e7ba5-b009-4d9b-8ca4-7df7873485ad')/Products('Quicklook')/$value\",\n",
       "   'node_path': './GRANULE/L2A_T44PLS_A038440_20221101T045941/QI_DATA/FORMAT_CORRECTNESS.xml',\n",
       "   'nodes': {...},\n",
       "   'sha3-256': 'f0c384a0bc8f431806dc424d32bc73936e75c259be43d0bd271a845e4df611ce',\n",
       "   'path': PosixPath('/Users/chetan/PycharmProjects/cogs/S2A_MSIL2A_20221101T045941_N0400_R119_T44PLS_20221101T091457.SAFE/GRANULE/L2A_T44PLS_A038440_20221101T045941/QI_DATA/FORMAT_CORRECTNESS.xml'),\n",
       "   'downloaded_bytes': 7928},\n",
       "  './GRANULE/L2A_T44PLS_A038440_20221101T045941/QI_DATA/GENERAL_QUALITY.xml': {'id': 'e72e7ba5-b009-4d9b-8ca4-7df7873485ad',\n",
       "   'title': 'S2A_MSIL2A_20221101T045941_N0400_R119_T44PLS_20221101T091457',\n",
       "   'size': 4041,\n",
       "   'md5': '1e36666ca88ee135f00677251cce399a',\n",
       "   'date': datetime.datetime(2022, 11, 1, 4, 59, 41, 24000),\n",
       "   'footprint': 'POLYGON((79.17044276734362 10.850043609987958,80.1747533016957 10.854374836688937,80.17734657695293 9.861405801695572,79.17618891454158 9.857478810184183,79.17044276734362 10.850043609987958))',\n",
       "   'url': \"https://scihub.copernicus.eu/dhus/odata/v1/Products('e72e7ba5-b009-4d9b-8ca4-7df7873485ad')/Nodes('S2A_MSIL2A_20221101T045941_N0400_R119_T44PLS_20221101T091457.SAFE')/Nodes('GRANULE')/Nodes('L2A_T44PLS_A038440_20221101T045941')/Nodes('QI_DATA')/Nodes('GENERAL_QUALITY.xml')/$value\",\n",
       "   'Online': True,\n",
       "   'Creation Date': datetime.datetime(2022, 11, 1, 11, 47, 6, 627000),\n",
       "   'Ingestion Date': datetime.datetime(2022, 11, 1, 11, 46, 58, 411000),\n",
       "   'quicklook_url': \"https://scihub.copernicus.eu/dhus/odata/v1/Products('e72e7ba5-b009-4d9b-8ca4-7df7873485ad')/Products('Quicklook')/$value\",\n",
       "   'node_path': './GRANULE/L2A_T44PLS_A038440_20221101T045941/QI_DATA/GENERAL_QUALITY.xml',\n",
       "   'nodes': {...},\n",
       "   'sha3-256': '69212b46d435de5789dd6e57f1c9afaa9aa44c8a43d65b3456cc316d7eafafaa',\n",
       "   'path': PosixPath('/Users/chetan/PycharmProjects/cogs/S2A_MSIL2A_20221101T045941_N0400_R119_T44PLS_20221101T091457.SAFE/GRANULE/L2A_T44PLS_A038440_20221101T045941/QI_DATA/GENERAL_QUALITY.xml'),\n",
       "   'downloaded_bytes': 4041},\n",
       "  './GRANULE/L2A_T44PLS_A038440_20221101T045941/QI_DATA/GEOMETRIC_QUALITY.xml': {'id': 'e72e7ba5-b009-4d9b-8ca4-7df7873485ad',\n",
       "   'title': 'S2A_MSIL2A_20221101T045941_N0400_R119_T44PLS_20221101T091457',\n",
       "   'size': 4889,\n",
       "   'md5': '1e36666ca88ee135f00677251cce399a',\n",
       "   'date': datetime.datetime(2022, 11, 1, 4, 59, 41, 24000),\n",
       "   'footprint': 'POLYGON((79.17044276734362 10.850043609987958,80.1747533016957 10.854374836688937,80.17734657695293 9.861405801695572,79.17618891454158 9.857478810184183,79.17044276734362 10.850043609987958))',\n",
       "   'url': \"https://scihub.copernicus.eu/dhus/odata/v1/Products('e72e7ba5-b009-4d9b-8ca4-7df7873485ad')/Nodes('S2A_MSIL2A_20221101T045941_N0400_R119_T44PLS_20221101T091457.SAFE')/Nodes('GRANULE')/Nodes('L2A_T44PLS_A038440_20221101T045941')/Nodes('QI_DATA')/Nodes('GEOMETRIC_QUALITY.xml')/$value\",\n",
       "   'Online': True,\n",
       "   'Creation Date': datetime.datetime(2022, 11, 1, 11, 47, 6, 627000),\n",
       "   'Ingestion Date': datetime.datetime(2022, 11, 1, 11, 46, 58, 411000),\n",
       "   'quicklook_url': \"https://scihub.copernicus.eu/dhus/odata/v1/Products('e72e7ba5-b009-4d9b-8ca4-7df7873485ad')/Products('Quicklook')/$value\",\n",
       "   'node_path': './GRANULE/L2A_T44PLS_A038440_20221101T045941/QI_DATA/GEOMETRIC_QUALITY.xml',\n",
       "   'nodes': {...},\n",
       "   'sha3-256': 'e1ae325e448d516970a48ca0fffe116e9c3a118bb7793d22584829f04aa846f5',\n",
       "   'path': PosixPath('/Users/chetan/PycharmProjects/cogs/S2A_MSIL2A_20221101T045941_N0400_R119_T44PLS_20221101T091457.SAFE/GRANULE/L2A_T44PLS_A038440_20221101T045941/QI_DATA/GEOMETRIC_QUALITY.xml'),\n",
       "   'downloaded_bytes': 4889},\n",
       "  './GRANULE/L2A_T44PLS_A038440_20221101T045941/QI_DATA/L2A_QUALITY.xml': {'id': 'e72e7ba5-b009-4d9b-8ca4-7df7873485ad',\n",
       "   'title': 'S2A_MSIL2A_20221101T045941_N0400_R119_T44PLS_20221101T091457',\n",
       "   'size': 7604,\n",
       "   'md5': '1e36666ca88ee135f00677251cce399a',\n",
       "   'date': datetime.datetime(2022, 11, 1, 4, 59, 41, 24000),\n",
       "   'footprint': 'POLYGON((79.17044276734362 10.850043609987958,80.1747533016957 10.854374836688937,80.17734657695293 9.861405801695572,79.17618891454158 9.857478810184183,79.17044276734362 10.850043609987958))',\n",
       "   'url': \"https://scihub.copernicus.eu/dhus/odata/v1/Products('e72e7ba5-b009-4d9b-8ca4-7df7873485ad')/Nodes('S2A_MSIL2A_20221101T045941_N0400_R119_T44PLS_20221101T091457.SAFE')/Nodes('GRANULE')/Nodes('L2A_T44PLS_A038440_20221101T045941')/Nodes('QI_DATA')/Nodes('L2A_QUALITY.xml')/$value\",\n",
       "   'Online': True,\n",
       "   'Creation Date': datetime.datetime(2022, 11, 1, 11, 47, 6, 627000),\n",
       "   'Ingestion Date': datetime.datetime(2022, 11, 1, 11, 46, 58, 411000),\n",
       "   'quicklook_url': \"https://scihub.copernicus.eu/dhus/odata/v1/Products('e72e7ba5-b009-4d9b-8ca4-7df7873485ad')/Products('Quicklook')/$value\",\n",
       "   'node_path': './GRANULE/L2A_T44PLS_A038440_20221101T045941/QI_DATA/L2A_QUALITY.xml',\n",
       "   'nodes': {...},\n",
       "   'sha3-256': 'B2F6F847A9D6904184CF49F27E0BF929F51D849D1C42A7D5627540CCD72EC538',\n",
       "   'path': PosixPath('/Users/chetan/PycharmProjects/cogs/S2A_MSIL2A_20221101T045941_N0400_R119_T44PLS_20221101T091457.SAFE/GRANULE/L2A_T44PLS_A038440_20221101T045941/QI_DATA/L2A_QUALITY.xml'),\n",
       "   'downloaded_bytes': 7604},\n",
       "  './GRANULE/L2A_T44PLS_A038440_20221101T045941/QI_DATA/SENSOR_QUALITY.xml': {'id': 'e72e7ba5-b009-4d9b-8ca4-7df7873485ad',\n",
       "   'title': 'S2A_MSIL2A_20221101T045941_N0400_R119_T44PLS_20221101T091457',\n",
       "   'size': 3275,\n",
       "   'md5': '1e36666ca88ee135f00677251cce399a',\n",
       "   'date': datetime.datetime(2022, 11, 1, 4, 59, 41, 24000),\n",
       "   'footprint': 'POLYGON((79.17044276734362 10.850043609987958,80.1747533016957 10.854374836688937,80.17734657695293 9.861405801695572,79.17618891454158 9.857478810184183,79.17044276734362 10.850043609987958))',\n",
       "   'url': \"https://scihub.copernicus.eu/dhus/odata/v1/Products('e72e7ba5-b009-4d9b-8ca4-7df7873485ad')/Nodes('S2A_MSIL2A_20221101T045941_N0400_R119_T44PLS_20221101T091457.SAFE')/Nodes('GRANULE')/Nodes('L2A_T44PLS_A038440_20221101T045941')/Nodes('QI_DATA')/Nodes('SENSOR_QUALITY.xml')/$value\",\n",
       "   'Online': True,\n",
       "   'Creation Date': datetime.datetime(2022, 11, 1, 11, 47, 6, 627000),\n",
       "   'Ingestion Date': datetime.datetime(2022, 11, 1, 11, 46, 58, 411000),\n",
       "   'quicklook_url': \"https://scihub.copernicus.eu/dhus/odata/v1/Products('e72e7ba5-b009-4d9b-8ca4-7df7873485ad')/Products('Quicklook')/$value\",\n",
       "   'node_path': './GRANULE/L2A_T44PLS_A038440_20221101T045941/QI_DATA/SENSOR_QUALITY.xml',\n",
       "   'nodes': {...},\n",
       "   'sha3-256': '282b882eb7002e78130d1ed85c94275d4aa983b737356a034fbb35b5457f307c',\n",
       "   'path': PosixPath('/Users/chetan/PycharmProjects/cogs/S2A_MSIL2A_20221101T045941_N0400_R119_T44PLS_20221101T091457.SAFE/GRANULE/L2A_T44PLS_A038440_20221101T045941/QI_DATA/SENSOR_QUALITY.xml'),\n",
       "   'downloaded_bytes': 3275}}}"
      ]
     },
     "execution_count": 16,
     "metadata": {},
     "output_type": "execute_result"
    }
   ],
   "source": [
    "#for B02 10m resolution & all xml files\n",
    "path_filter=make_path_filter(pattern=[\"*_B02_10m*\",\"*.xml\"])\n",
    "api.download('e72e7ba5-b009-4d9b-8ca4-7df7873485ad',nodefilter=path_filter)\n"
   ]
  },
  {
   "cell_type": "markdown",
   "metadata": {},
   "source": [
    "Using chain_filters"
   ]
  },
  {
   "cell_type": "code",
   "execution_count": 17,
   "metadata": {},
   "outputs": [],
   "source": [
    "def chain_filters(filters, op=operator.or_, exclude=False):\n",
    "    \"\"\"Generate a nodefilter function by chaining a sequence of node filters.\n",
    "\n",
    "    Parameters\n",
    "    ----------\n",
    "    filters : sequence\n",
    "        sequence of node filter to be evaluated according to the operator `op`\n",
    "    op : operator\n",
    "        operator used to chain the input node filters (default `or`)\n",
    "    exclude : bool, optional\n",
    "        if set to True then files matching the specified pattern are excluded. Default False.\n",
    "\n",
    "    \"\"\"\n",
    "\n",
    "    def node_filter(node_info):\n",
    "        results = [nodefilter(node_info) for nodefilter in filters]\n",
    "        result = functools.reduce(op, results)\n",
    "        return not result if exclude else result\n",
    "\n",
    "    return node_filter"
   ]
  },
  {
   "cell_type": "code",
   "execution_count": 19,
   "metadata": {},
   "outputs": [],
   "source": [
    "def make_size_filter(max_size):\n",
    "    \"\"\"Generate a nodefilter function to download only files below the specified maximum size.\n",
    "\n",
    "    .. versionadded:: 0.15\n",
    "    \"\"\"\n",
    "\n",
    "    def node_filter(node_info):\n",
    "        return node_info[\"size\"] <= max_size\n",
    "\n",
    "    return node_filter"
   ]
  },
  {
   "cell_type": "code",
   "execution_count": 20,
   "metadata": {},
   "outputs": [],
   "source": [
    "#path filter for B04 20m resolution\n",
    "path_filter_b08_20m = make_path_filter(pattern=\"*_B08_20m*\") "
   ]
  },
  {
   "cell_type": "code",
   "execution_count": 21,
   "metadata": {},
   "outputs": [],
   "source": [
    "sizefilter=make_size_filter(max_size=10000)"
   ]
  },
  {
   "cell_type": "code",
   "execution_count": 22,
   "metadata": {},
   "outputs": [],
   "source": [
    "filters=[path_filter_b08_20m,sizefilter]"
   ]
  },
  {
   "cell_type": "code",
   "execution_count": 47,
   "metadata": {},
   "outputs": [],
   "source": []
  },
  {
   "cell_type": "code",
   "execution_count": 23,
   "metadata": {},
   "outputs": [
    {
     "name": "stdout",
     "output_type": "stream",
     "text": [
      "<function chain_filters.<locals>.node_filter at 0x17d2ef5e0>\n"
     ]
    }
   ],
   "source": [
    "chain_filter_list = chain_filters(filters=filters,op=operator.or_) \n",
    "print(chain_filter_list)"
   ]
  },
  {
   "cell_type": "code",
   "execution_count": 24,
   "metadata": {},
   "outputs": [
    {
     "data": {
      "application/vnd.jupyter.widget-view+json": {
       "model_id": "7a0c89bc6ac34a768d73654b448f548e",
       "version_major": 2,
       "version_minor": 0
      },
      "text/plain": [
       "Downloading UserProduct_index.html:   0%|          | 0.00/8.38k [00:00<?, ?B/s]"
      ]
     },
     "metadata": {},
     "output_type": "display_data"
    },
    {
     "data": {
      "application/vnd.jupyter.widget-view+json": {
       "model_id": "9eb45c2f7bd24974a5bcfa02788bd8e4",
       "version_major": 2,
       "version_minor": 0
      },
      "text/plain": [
       "SHA3_256 checksumming:   0%|          | 0.00/8.38k [00:00<?, ?B/s]"
      ]
     },
     "metadata": {},
     "output_type": "display_data"
    },
    {
     "data": {
      "application/vnd.jupyter.widget-view+json": {
       "model_id": "3604e86bdfac4193a91c3aeba853239f",
       "version_major": 2,
       "version_minor": 0
      },
      "text/plain": [
       "Downloading AUX_CAMSFO:   0%|          | 0.00/2.97k [00:00<?, ?B/s]"
      ]
     },
     "metadata": {},
     "output_type": "display_data"
    },
    {
     "data": {
      "application/vnd.jupyter.widget-view+json": {
       "model_id": "643891de862740fca482f7a587a9267a",
       "version_major": 2,
       "version_minor": 0
      },
      "text/plain": [
       "SHA3_256 checksumming:   0%|          | 0.00/2.97k [00:00<?, ?B/s]"
      ]
     },
     "metadata": {},
     "output_type": "display_data"
    },
    {
     "data": {
      "application/vnd.jupyter.widget-view+json": {
       "model_id": "7b0f92e19c3b4d5982255e4d3fbfba00",
       "version_major": 2,
       "version_minor": 0
      },
      "text/plain": [
       "Downloading AUX_ECMWFT:   0%|          | 0.00/1.62k [00:00<?, ?B/s]"
      ]
     },
     "metadata": {},
     "output_type": "display_data"
    },
    {
     "data": {
      "application/vnd.jupyter.widget-view+json": {
       "model_id": "6f5038dc0a6345eabdc720e2700df5b0",
       "version_major": 2,
       "version_minor": 0
      },
      "text/plain": [
       "SHA3_256 checksumming:   0%|          | 0.00/1.62k [00:00<?, ?B/s]"
      ]
     },
     "metadata": {},
     "output_type": "display_data"
    },
    {
     "data": {
      "application/vnd.jupyter.widget-view+json": {
       "model_id": "940ea7c4ea8845e9b0e779adbc853405",
       "version_major": 2,
       "version_minor": 0
      },
      "text/plain": [
       "Downloading T44PLS_20221101T045941_TCI_20m.jp2:   0%|          | 0.00/9.09k [00:00<?, ?B/s]"
      ]
     },
     "metadata": {},
     "output_type": "display_data"
    },
    {
     "data": {
      "application/vnd.jupyter.widget-view+json": {
       "model_id": "ddedcb6ca37b406abf45a6bd84985e8e",
       "version_major": 2,
       "version_minor": 0
      },
      "text/plain": [
       "SHA3_256 checksumming:   0%|          | 0.00/9.09k [00:00<?, ?B/s]"
      ]
     },
     "metadata": {},
     "output_type": "display_data"
    },
    {
     "data": {
      "application/vnd.jupyter.widget-view+json": {
       "model_id": "8f0646ac0f8c4637b40f9f099336de83",
       "version_major": 2,
       "version_minor": 0
      },
      "text/plain": [
       "Downloading T44PLS_20221101T045941_TCI_60m.jp2:   0%|          | 0.00/9.46k [00:00<?, ?B/s]"
      ]
     },
     "metadata": {},
     "output_type": "display_data"
    },
    {
     "data": {
      "application/vnd.jupyter.widget-view+json": {
       "model_id": "d0c8ad22d3554a76bb822c1f99476793",
       "version_major": 2,
       "version_minor": 0
      },
      "text/plain": [
       "SHA3_256 checksumming:   0%|          | 0.00/9.46k [00:00<?, ?B/s]"
      ]
     },
     "metadata": {},
     "output_type": "display_data"
    },
    {
     "data": {
      "application/vnd.jupyter.widget-view+json": {
       "model_id": "8cf01d38a28a427993221e044ae97301",
       "version_major": 2,
       "version_minor": 0
      },
      "text/plain": [
       "Downloading MSK_CLASSI_B00.jp2:   0%|          | 0.00/7.59k [00:00<?, ?B/s]"
      ]
     },
     "metadata": {},
     "output_type": "display_data"
    },
    {
     "data": {
      "application/vnd.jupyter.widget-view+json": {
       "model_id": "06d400a355cc426e870e3f6637d52bce",
       "version_major": 2,
       "version_minor": 0
      },
      "text/plain": [
       "SHA3_256 checksumming:   0%|          | 0.00/7.59k [00:00<?, ?B/s]"
      ]
     },
     "metadata": {},
     "output_type": "display_data"
    },
    {
     "data": {
      "text/plain": [
       "{'id': 'e72e7ba5-b009-4d9b-8ca4-7df7873485ad',\n",
       " 'title': 'S2A_MSIL2A_20221101T045941_N0400_R119_T44PLS_20221101T091457',\n",
       " 'size': 705614197,\n",
       " 'md5': '1e36666ca88ee135f00677251cce399a',\n",
       " 'date': datetime.datetime(2022, 11, 1, 4, 59, 41, 24000),\n",
       " 'footprint': 'POLYGON((79.17044276734362 10.850043609987958,80.1747533016957 10.854374836688937,80.17734657695293 9.861405801695572,79.17618891454158 9.857478810184183,79.17044276734362 10.850043609987958))',\n",
       " 'url': \"https://scihub.copernicus.eu/dhus/odata/v1/Products('e72e7ba5-b009-4d9b-8ca4-7df7873485ad')/$value\",\n",
       " 'Online': True,\n",
       " 'Creation Date': datetime.datetime(2022, 11, 1, 11, 47, 6, 627000),\n",
       " 'Ingestion Date': datetime.datetime(2022, 11, 1, 11, 46, 58, 411000),\n",
       " 'quicklook_url': \"https://scihub.copernicus.eu/dhus/odata/v1/Products('e72e7ba5-b009-4d9b-8ca4-7df7873485ad')/Products('Quicklook')/$value\",\n",
       " 'node_path': './S2A_MSIL2A_20221101T045941_N0400_R119_T44PLS_20221101T091457.SAFE',\n",
       " 'nodes': {'./manifest.safe': {'id': 'e72e7ba5-b009-4d9b-8ca4-7df7873485ad',\n",
       "   'title': 'S2A_MSIL2A_20221101T045941_N0400_R119_T44PLS_20221101T091457',\n",
       "   'size': 68874,\n",
       "   'date': datetime.datetime(2022, 11, 1, 4, 59, 41, 24000),\n",
       "   'footprint': 'POLYGON((79.17044276734362 10.850043609987958,80.1747533016957 10.854374836688937,80.17734657695293 9.861405801695572,79.17618891454158 9.857478810184183,79.17044276734362 10.850043609987958))',\n",
       "   'url': \"https://scihub.copernicus.eu/dhus/odata/v1/Products('e72e7ba5-b009-4d9b-8ca4-7df7873485ad')/Nodes('S2A_MSIL2A_20221101T045941_N0400_R119_T44PLS_20221101T091457.SAFE')/Nodes('manifest.safe')/$value\",\n",
       "   'Online': True,\n",
       "   'Creation Date': datetime.datetime(2022, 11, 1, 11, 47, 6, 627000),\n",
       "   'Ingestion Date': datetime.datetime(2022, 11, 1, 11, 46, 58, 411000),\n",
       "   'quicklook_url': \"https://scihub.copernicus.eu/dhus/odata/v1/Products('e72e7ba5-b009-4d9b-8ca4-7df7873485ad')/Products('Quicklook')/$value\",\n",
       "   'node_path': './manifest.safe'},\n",
       "  './HTML/UserProduct_index.html': {'id': 'e72e7ba5-b009-4d9b-8ca4-7df7873485ad',\n",
       "   'title': 'S2A_MSIL2A_20221101T045941_N0400_R119_T44PLS_20221101T091457',\n",
       "   'size': 8375,\n",
       "   'md5': '1e36666ca88ee135f00677251cce399a',\n",
       "   'date': datetime.datetime(2022, 11, 1, 4, 59, 41, 24000),\n",
       "   'footprint': 'POLYGON((79.17044276734362 10.850043609987958,80.1747533016957 10.854374836688937,80.17734657695293 9.861405801695572,79.17618891454158 9.857478810184183,79.17044276734362 10.850043609987958))',\n",
       "   'url': \"https://scihub.copernicus.eu/dhus/odata/v1/Products('e72e7ba5-b009-4d9b-8ca4-7df7873485ad')/Nodes('S2A_MSIL2A_20221101T045941_N0400_R119_T44PLS_20221101T091457.SAFE')/Nodes('HTML')/Nodes('UserProduct_index.html')/$value\",\n",
       "   'Online': True,\n",
       "   'Creation Date': datetime.datetime(2022, 11, 1, 11, 47, 6, 627000),\n",
       "   'Ingestion Date': datetime.datetime(2022, 11, 1, 11, 46, 58, 411000),\n",
       "   'quicklook_url': \"https://scihub.copernicus.eu/dhus/odata/v1/Products('e72e7ba5-b009-4d9b-8ca4-7df7873485ad')/Products('Quicklook')/$value\",\n",
       "   'node_path': './HTML/UserProduct_index.html',\n",
       "   'nodes': {...},\n",
       "   'sha3-256': 'efeac56baf549c25c5b2baaa70d3d23a887c18ab7f082585e3760711aa1f6d06',\n",
       "   'path': PosixPath('/Users/chetan/PycharmProjects/cogs/S2A_MSIL2A_20221101T045941_N0400_R119_T44PLS_20221101T091457.SAFE/HTML/UserProduct_index.html'),\n",
       "   'downloaded_bytes': 8375},\n",
       "  './DATASTRIP/DS_ATOS_20221101T091457_S20221101T045941/QI_DATA/FORMAT_CORRECTNESS.xml': {'id': 'e72e7ba5-b009-4d9b-8ca4-7df7873485ad',\n",
       "   'title': 'S2A_MSIL2A_20221101T045941_N0400_R119_T44PLS_20221101T091457',\n",
       "   'size': 3970,\n",
       "   'md5': '1e36666ca88ee135f00677251cce399a',\n",
       "   'date': datetime.datetime(2022, 11, 1, 4, 59, 41, 24000),\n",
       "   'footprint': 'POLYGON((79.17044276734362 10.850043609987958,80.1747533016957 10.854374836688937,80.17734657695293 9.861405801695572,79.17618891454158 9.857478810184183,79.17044276734362 10.850043609987958))',\n",
       "   'url': \"https://scihub.copernicus.eu/dhus/odata/v1/Products('e72e7ba5-b009-4d9b-8ca4-7df7873485ad')/Nodes('S2A_MSIL2A_20221101T045941_N0400_R119_T44PLS_20221101T091457.SAFE')/Nodes('DATASTRIP')/Nodes('DS_ATOS_20221101T091457_S20221101T045941')/Nodes('QI_DATA')/Nodes('FORMAT_CORRECTNESS.xml')/$value\",\n",
       "   'Online': True,\n",
       "   'Creation Date': datetime.datetime(2022, 11, 1, 11, 47, 6, 627000),\n",
       "   'Ingestion Date': datetime.datetime(2022, 11, 1, 11, 46, 58, 411000),\n",
       "   'quicklook_url': \"https://scihub.copernicus.eu/dhus/odata/v1/Products('e72e7ba5-b009-4d9b-8ca4-7df7873485ad')/Products('Quicklook')/$value\",\n",
       "   'node_path': './DATASTRIP/DS_ATOS_20221101T091457_S20221101T045941/QI_DATA/FORMAT_CORRECTNESS.xml',\n",
       "   'nodes': {...},\n",
       "   'sha3-256': '728413c81b088deaa41391bb31672763b9c172cb492c373d114fbf83560bc70d',\n",
       "   'path': PosixPath('/Users/chetan/PycharmProjects/cogs/S2A_MSIL2A_20221101T045941_N0400_R119_T44PLS_20221101T091457.SAFE/DATASTRIP/DS_ATOS_20221101T091457_S20221101T045941/QI_DATA/FORMAT_CORRECTNESS.xml'),\n",
       "   'downloaded_bytes': 0},\n",
       "  './DATASTRIP/DS_ATOS_20221101T091457_S20221101T045941/QI_DATA/GENERAL_QUALITY.xml': {'id': 'e72e7ba5-b009-4d9b-8ca4-7df7873485ad',\n",
       "   'title': 'S2A_MSIL2A_20221101T045941_N0400_R119_T44PLS_20221101T091457',\n",
       "   'size': 5718,\n",
       "   'md5': '1e36666ca88ee135f00677251cce399a',\n",
       "   'date': datetime.datetime(2022, 11, 1, 4, 59, 41, 24000),\n",
       "   'footprint': 'POLYGON((79.17044276734362 10.850043609987958,80.1747533016957 10.854374836688937,80.17734657695293 9.861405801695572,79.17618891454158 9.857478810184183,79.17044276734362 10.850043609987958))',\n",
       "   'url': \"https://scihub.copernicus.eu/dhus/odata/v1/Products('e72e7ba5-b009-4d9b-8ca4-7df7873485ad')/Nodes('S2A_MSIL2A_20221101T045941_N0400_R119_T44PLS_20221101T091457.SAFE')/Nodes('DATASTRIP')/Nodes('DS_ATOS_20221101T091457_S20221101T045941')/Nodes('QI_DATA')/Nodes('GENERAL_QUALITY.xml')/$value\",\n",
       "   'Online': True,\n",
       "   'Creation Date': datetime.datetime(2022, 11, 1, 11, 47, 6, 627000),\n",
       "   'Ingestion Date': datetime.datetime(2022, 11, 1, 11, 46, 58, 411000),\n",
       "   'quicklook_url': \"https://scihub.copernicus.eu/dhus/odata/v1/Products('e72e7ba5-b009-4d9b-8ca4-7df7873485ad')/Products('Quicklook')/$value\",\n",
       "   'node_path': './DATASTRIP/DS_ATOS_20221101T091457_S20221101T045941/QI_DATA/GENERAL_QUALITY.xml',\n",
       "   'nodes': {...},\n",
       "   'sha3-256': '201dd7a2598c1e5033f1b2dce55c4880597b0a4c8b936247c9a4ed6b2b63f377',\n",
       "   'path': PosixPath('/Users/chetan/PycharmProjects/cogs/S2A_MSIL2A_20221101T045941_N0400_R119_T44PLS_20221101T091457.SAFE/DATASTRIP/DS_ATOS_20221101T091457_S20221101T045941/QI_DATA/GENERAL_QUALITY.xml'),\n",
       "   'downloaded_bytes': 0},\n",
       "  './DATASTRIP/DS_ATOS_20221101T091457_S20221101T045941/QI_DATA/GEOMETRIC_QUALITY.xml': {'id': 'e72e7ba5-b009-4d9b-8ca4-7df7873485ad',\n",
       "   'title': 'S2A_MSIL2A_20221101T045941_N0400_R119_T44PLS_20221101T091457',\n",
       "   'size': 8122,\n",
       "   'md5': '1e36666ca88ee135f00677251cce399a',\n",
       "   'date': datetime.datetime(2022, 11, 1, 4, 59, 41, 24000),\n",
       "   'footprint': 'POLYGON((79.17044276734362 10.850043609987958,80.1747533016957 10.854374836688937,80.17734657695293 9.861405801695572,79.17618891454158 9.857478810184183,79.17044276734362 10.850043609987958))',\n",
       "   'url': \"https://scihub.copernicus.eu/dhus/odata/v1/Products('e72e7ba5-b009-4d9b-8ca4-7df7873485ad')/Nodes('S2A_MSIL2A_20221101T045941_N0400_R119_T44PLS_20221101T091457.SAFE')/Nodes('DATASTRIP')/Nodes('DS_ATOS_20221101T091457_S20221101T045941')/Nodes('QI_DATA')/Nodes('GEOMETRIC_QUALITY.xml')/$value\",\n",
       "   'Online': True,\n",
       "   'Creation Date': datetime.datetime(2022, 11, 1, 11, 47, 6, 627000),\n",
       "   'Ingestion Date': datetime.datetime(2022, 11, 1, 11, 46, 58, 411000),\n",
       "   'quicklook_url': \"https://scihub.copernicus.eu/dhus/odata/v1/Products('e72e7ba5-b009-4d9b-8ca4-7df7873485ad')/Products('Quicklook')/$value\",\n",
       "   'node_path': './DATASTRIP/DS_ATOS_20221101T091457_S20221101T045941/QI_DATA/GEOMETRIC_QUALITY.xml',\n",
       "   'nodes': {...},\n",
       "   'sha3-256': '2faca2d08125f3b27bbc70dae333ce4deba6bc3fd92f3e901103dd0e884ef38f',\n",
       "   'path': PosixPath('/Users/chetan/PycharmProjects/cogs/S2A_MSIL2A_20221101T045941_N0400_R119_T44PLS_20221101T091457.SAFE/DATASTRIP/DS_ATOS_20221101T091457_S20221101T045941/QI_DATA/GEOMETRIC_QUALITY.xml'),\n",
       "   'downloaded_bytes': 0},\n",
       "  './DATASTRIP/DS_ATOS_20221101T091457_S20221101T045941/QI_DATA/RADIOMETRIC_QUALITY.xml': {'id': 'e72e7ba5-b009-4d9b-8ca4-7df7873485ad',\n",
       "   'title': 'S2A_MSIL2A_20221101T045941_N0400_R119_T44PLS_20221101T091457',\n",
       "   'size': 7068,\n",
       "   'md5': '1e36666ca88ee135f00677251cce399a',\n",
       "   'date': datetime.datetime(2022, 11, 1, 4, 59, 41, 24000),\n",
       "   'footprint': 'POLYGON((79.17044276734362 10.850043609987958,80.1747533016957 10.854374836688937,80.17734657695293 9.861405801695572,79.17618891454158 9.857478810184183,79.17044276734362 10.850043609987958))',\n",
       "   'url': \"https://scihub.copernicus.eu/dhus/odata/v1/Products('e72e7ba5-b009-4d9b-8ca4-7df7873485ad')/Nodes('S2A_MSIL2A_20221101T045941_N0400_R119_T44PLS_20221101T091457.SAFE')/Nodes('DATASTRIP')/Nodes('DS_ATOS_20221101T091457_S20221101T045941')/Nodes('QI_DATA')/Nodes('RADIOMETRIC_QUALITY.xml')/$value\",\n",
       "   'Online': True,\n",
       "   'Creation Date': datetime.datetime(2022, 11, 1, 11, 47, 6, 627000),\n",
       "   'Ingestion Date': datetime.datetime(2022, 11, 1, 11, 46, 58, 411000),\n",
       "   'quicklook_url': \"https://scihub.copernicus.eu/dhus/odata/v1/Products('e72e7ba5-b009-4d9b-8ca4-7df7873485ad')/Products('Quicklook')/$value\",\n",
       "   'node_path': './DATASTRIP/DS_ATOS_20221101T091457_S20221101T045941/QI_DATA/RADIOMETRIC_QUALITY.xml',\n",
       "   'nodes': {...},\n",
       "   'sha3-256': '755e96f53a0e0a8a923e3e2f9c1d3abd683fa7f6eccc81b6c8ca104eca46921d',\n",
       "   'path': PosixPath('/Users/chetan/PycharmProjects/cogs/S2A_MSIL2A_20221101T045941_N0400_R119_T44PLS_20221101T091457.SAFE/DATASTRIP/DS_ATOS_20221101T091457_S20221101T045941/QI_DATA/RADIOMETRIC_QUALITY.xml'),\n",
       "   'downloaded_bytes': 0},\n",
       "  './DATASTRIP/DS_ATOS_20221101T091457_S20221101T045941/QI_DATA/SENSOR_QUALITY.xml': {'id': 'e72e7ba5-b009-4d9b-8ca4-7df7873485ad',\n",
       "   'title': 'S2A_MSIL2A_20221101T045941_N0400_R119_T44PLS_20221101T091457',\n",
       "   'size': 4382,\n",
       "   'md5': '1e36666ca88ee135f00677251cce399a',\n",
       "   'date': datetime.datetime(2022, 11, 1, 4, 59, 41, 24000),\n",
       "   'footprint': 'POLYGON((79.17044276734362 10.850043609987958,80.1747533016957 10.854374836688937,80.17734657695293 9.861405801695572,79.17618891454158 9.857478810184183,79.17044276734362 10.850043609987958))',\n",
       "   'url': \"https://scihub.copernicus.eu/dhus/odata/v1/Products('e72e7ba5-b009-4d9b-8ca4-7df7873485ad')/Nodes('S2A_MSIL2A_20221101T045941_N0400_R119_T44PLS_20221101T091457.SAFE')/Nodes('DATASTRIP')/Nodes('DS_ATOS_20221101T091457_S20221101T045941')/Nodes('QI_DATA')/Nodes('SENSOR_QUALITY.xml')/$value\",\n",
       "   'Online': True,\n",
       "   'Creation Date': datetime.datetime(2022, 11, 1, 11, 47, 6, 627000),\n",
       "   'Ingestion Date': datetime.datetime(2022, 11, 1, 11, 46, 58, 411000),\n",
       "   'quicklook_url': \"https://scihub.copernicus.eu/dhus/odata/v1/Products('e72e7ba5-b009-4d9b-8ca4-7df7873485ad')/Products('Quicklook')/$value\",\n",
       "   'node_path': './DATASTRIP/DS_ATOS_20221101T091457_S20221101T045941/QI_DATA/SENSOR_QUALITY.xml',\n",
       "   'nodes': {...},\n",
       "   'sha3-256': 'd134627a7c65ff19e2e69b9bd47cd38683005fb918634d485d4fb695a4e8437d',\n",
       "   'path': PosixPath('/Users/chetan/PycharmProjects/cogs/S2A_MSIL2A_20221101T045941_N0400_R119_T44PLS_20221101T091457.SAFE/DATASTRIP/DS_ATOS_20221101T091457_S20221101T045941/QI_DATA/SENSOR_QUALITY.xml'),\n",
       "   'downloaded_bytes': 0},\n",
       "  './GRANULE/L2A_T44PLS_A038440_20221101T045941/AUX_DATA/AUX_CAMSFO': {'id': 'e72e7ba5-b009-4d9b-8ca4-7df7873485ad',\n",
       "   'title': 'S2A_MSIL2A_20221101T045941_N0400_R119_T44PLS_20221101T091457',\n",
       "   'size': 2970,\n",
       "   'md5': '1e36666ca88ee135f00677251cce399a',\n",
       "   'date': datetime.datetime(2022, 11, 1, 4, 59, 41, 24000),\n",
       "   'footprint': 'POLYGON((79.17044276734362 10.850043609987958,80.1747533016957 10.854374836688937,80.17734657695293 9.861405801695572,79.17618891454158 9.857478810184183,79.17044276734362 10.850043609987958))',\n",
       "   'url': \"https://scihub.copernicus.eu/dhus/odata/v1/Products('e72e7ba5-b009-4d9b-8ca4-7df7873485ad')/Nodes('S2A_MSIL2A_20221101T045941_N0400_R119_T44PLS_20221101T091457.SAFE')/Nodes('GRANULE')/Nodes('L2A_T44PLS_A038440_20221101T045941')/Nodes('AUX_DATA')/Nodes('AUX_CAMSFO')/$value\",\n",
       "   'Online': True,\n",
       "   'Creation Date': datetime.datetime(2022, 11, 1, 11, 47, 6, 627000),\n",
       "   'Ingestion Date': datetime.datetime(2022, 11, 1, 11, 46, 58, 411000),\n",
       "   'quicklook_url': \"https://scihub.copernicus.eu/dhus/odata/v1/Products('e72e7ba5-b009-4d9b-8ca4-7df7873485ad')/Products('Quicklook')/$value\",\n",
       "   'node_path': './GRANULE/L2A_T44PLS_A038440_20221101T045941/AUX_DATA/AUX_CAMSFO',\n",
       "   'nodes': {...},\n",
       "   'sha3-256': 'ACC3B5E386BCF2F19E6A30D9CC7150E416947B997C8511A274974CCAECE92D44',\n",
       "   'path': PosixPath('/Users/chetan/PycharmProjects/cogs/S2A_MSIL2A_20221101T045941_N0400_R119_T44PLS_20221101T091457.SAFE/GRANULE/L2A_T44PLS_A038440_20221101T045941/AUX_DATA/AUX_CAMSFO'),\n",
       "   'downloaded_bytes': 2970},\n",
       "  './GRANULE/L2A_T44PLS_A038440_20221101T045941/AUX_DATA/AUX_ECMWFT': {'id': 'e72e7ba5-b009-4d9b-8ca4-7df7873485ad',\n",
       "   'title': 'S2A_MSIL2A_20221101T045941_N0400_R119_T44PLS_20221101T091457',\n",
       "   'size': 1620,\n",
       "   'md5': '1e36666ca88ee135f00677251cce399a',\n",
       "   'date': datetime.datetime(2022, 11, 1, 4, 59, 41, 24000),\n",
       "   'footprint': 'POLYGON((79.17044276734362 10.850043609987958,80.1747533016957 10.854374836688937,80.17734657695293 9.861405801695572,79.17618891454158 9.857478810184183,79.17044276734362 10.850043609987958))',\n",
       "   'url': \"https://scihub.copernicus.eu/dhus/odata/v1/Products('e72e7ba5-b009-4d9b-8ca4-7df7873485ad')/Nodes('S2A_MSIL2A_20221101T045941_N0400_R119_T44PLS_20221101T091457.SAFE')/Nodes('GRANULE')/Nodes('L2A_T44PLS_A038440_20221101T045941')/Nodes('AUX_DATA')/Nodes('AUX_ECMWFT')/$value\",\n",
       "   'Online': True,\n",
       "   'Creation Date': datetime.datetime(2022, 11, 1, 11, 47, 6, 627000),\n",
       "   'Ingestion Date': datetime.datetime(2022, 11, 1, 11, 46, 58, 411000),\n",
       "   'quicklook_url': \"https://scihub.copernicus.eu/dhus/odata/v1/Products('e72e7ba5-b009-4d9b-8ca4-7df7873485ad')/Products('Quicklook')/$value\",\n",
       "   'node_path': './GRANULE/L2A_T44PLS_A038440_20221101T045941/AUX_DATA/AUX_ECMWFT',\n",
       "   'nodes': {...},\n",
       "   'sha3-256': '37B40EF2FBD3780E0833FA56E70D437129171BCFC83FD41FB2A2A7A30DE71F68',\n",
       "   'path': PosixPath('/Users/chetan/PycharmProjects/cogs/S2A_MSIL2A_20221101T045941_N0400_R119_T44PLS_20221101T091457.SAFE/GRANULE/L2A_T44PLS_A038440_20221101T045941/AUX_DATA/AUX_ECMWFT'),\n",
       "   'downloaded_bytes': 1620},\n",
       "  './GRANULE/L2A_T44PLS_A038440_20221101T045941/IMG_DATA/R20m/T44PLS_20221101T045941_TCI_20m.jp2': {'id': 'e72e7ba5-b009-4d9b-8ca4-7df7873485ad',\n",
       "   'title': 'S2A_MSIL2A_20221101T045941_N0400_R119_T44PLS_20221101T091457',\n",
       "   'size': 9091,\n",
       "   'md5': '1e36666ca88ee135f00677251cce399a',\n",
       "   'date': datetime.datetime(2022, 11, 1, 4, 59, 41, 24000),\n",
       "   'footprint': 'POLYGON((79.17044276734362 10.850043609987958,80.1747533016957 10.854374836688937,80.17734657695293 9.861405801695572,79.17618891454158 9.857478810184183,79.17044276734362 10.850043609987958))',\n",
       "   'url': \"https://scihub.copernicus.eu/dhus/odata/v1/Products('e72e7ba5-b009-4d9b-8ca4-7df7873485ad')/Nodes('S2A_MSIL2A_20221101T045941_N0400_R119_T44PLS_20221101T091457.SAFE')/Nodes('GRANULE')/Nodes('L2A_T44PLS_A038440_20221101T045941')/Nodes('IMG_DATA')/Nodes('R20m')/Nodes('T44PLS_20221101T045941_TCI_20m.jp2')/$value\",\n",
       "   'Online': True,\n",
       "   'Creation Date': datetime.datetime(2022, 11, 1, 11, 47, 6, 627000),\n",
       "   'Ingestion Date': datetime.datetime(2022, 11, 1, 11, 46, 58, 411000),\n",
       "   'quicklook_url': \"https://scihub.copernicus.eu/dhus/odata/v1/Products('e72e7ba5-b009-4d9b-8ca4-7df7873485ad')/Products('Quicklook')/$value\",\n",
       "   'node_path': './GRANULE/L2A_T44PLS_A038440_20221101T045941/IMG_DATA/R20m/T44PLS_20221101T045941_TCI_20m.jp2',\n",
       "   'nodes': {...},\n",
       "   'sha3-256': '0601fb1a6b817567d389af2b03ece8bbf5174ecc278fceaa97927509a827f864',\n",
       "   'path': PosixPath('/Users/chetan/PycharmProjects/cogs/S2A_MSIL2A_20221101T045941_N0400_R119_T44PLS_20221101T091457.SAFE/GRANULE/L2A_T44PLS_A038440_20221101T045941/IMG_DATA/R20m/T44PLS_20221101T045941_TCI_20m.jp2'),\n",
       "   'downloaded_bytes': 9091},\n",
       "  './GRANULE/L2A_T44PLS_A038440_20221101T045941/IMG_DATA/R60m/T44PLS_20221101T045941_TCI_60m.jp2': {'id': 'e72e7ba5-b009-4d9b-8ca4-7df7873485ad',\n",
       "   'title': 'S2A_MSIL2A_20221101T045941_N0400_R119_T44PLS_20221101T091457',\n",
       "   'size': 9455,\n",
       "   'md5': '1e36666ca88ee135f00677251cce399a',\n",
       "   'date': datetime.datetime(2022, 11, 1, 4, 59, 41, 24000),\n",
       "   'footprint': 'POLYGON((79.17044276734362 10.850043609987958,80.1747533016957 10.854374836688937,80.17734657695293 9.861405801695572,79.17618891454158 9.857478810184183,79.17044276734362 10.850043609987958))',\n",
       "   'url': \"https://scihub.copernicus.eu/dhus/odata/v1/Products('e72e7ba5-b009-4d9b-8ca4-7df7873485ad')/Nodes('S2A_MSIL2A_20221101T045941_N0400_R119_T44PLS_20221101T091457.SAFE')/Nodes('GRANULE')/Nodes('L2A_T44PLS_A038440_20221101T045941')/Nodes('IMG_DATA')/Nodes('R60m')/Nodes('T44PLS_20221101T045941_TCI_60m.jp2')/$value\",\n",
       "   'Online': True,\n",
       "   'Creation Date': datetime.datetime(2022, 11, 1, 11, 47, 6, 627000),\n",
       "   'Ingestion Date': datetime.datetime(2022, 11, 1, 11, 46, 58, 411000),\n",
       "   'quicklook_url': \"https://scihub.copernicus.eu/dhus/odata/v1/Products('e72e7ba5-b009-4d9b-8ca4-7df7873485ad')/Products('Quicklook')/$value\",\n",
       "   'node_path': './GRANULE/L2A_T44PLS_A038440_20221101T045941/IMG_DATA/R60m/T44PLS_20221101T045941_TCI_60m.jp2',\n",
       "   'nodes': {...},\n",
       "   'sha3-256': '7f7f816523ebf95643e7bb7b34ef3015e4428eaf5547141fc0fc451c023b1640',\n",
       "   'path': PosixPath('/Users/chetan/PycharmProjects/cogs/S2A_MSIL2A_20221101T045941_N0400_R119_T44PLS_20221101T091457.SAFE/GRANULE/L2A_T44PLS_A038440_20221101T045941/IMG_DATA/R60m/T44PLS_20221101T045941_TCI_60m.jp2'),\n",
       "   'downloaded_bytes': 9455},\n",
       "  './GRANULE/L2A_T44PLS_A038440_20221101T045941/QI_DATA/FORMAT_CORRECTNESS.xml': {'id': 'e72e7ba5-b009-4d9b-8ca4-7df7873485ad',\n",
       "   'title': 'S2A_MSIL2A_20221101T045941_N0400_R119_T44PLS_20221101T091457',\n",
       "   'size': 7928,\n",
       "   'md5': '1e36666ca88ee135f00677251cce399a',\n",
       "   'date': datetime.datetime(2022, 11, 1, 4, 59, 41, 24000),\n",
       "   'footprint': 'POLYGON((79.17044276734362 10.850043609987958,80.1747533016957 10.854374836688937,80.17734657695293 9.861405801695572,79.17618891454158 9.857478810184183,79.17044276734362 10.850043609987958))',\n",
       "   'url': \"https://scihub.copernicus.eu/dhus/odata/v1/Products('e72e7ba5-b009-4d9b-8ca4-7df7873485ad')/Nodes('S2A_MSIL2A_20221101T045941_N0400_R119_T44PLS_20221101T091457.SAFE')/Nodes('GRANULE')/Nodes('L2A_T44PLS_A038440_20221101T045941')/Nodes('QI_DATA')/Nodes('FORMAT_CORRECTNESS.xml')/$value\",\n",
       "   'Online': True,\n",
       "   'Creation Date': datetime.datetime(2022, 11, 1, 11, 47, 6, 627000),\n",
       "   'Ingestion Date': datetime.datetime(2022, 11, 1, 11, 46, 58, 411000),\n",
       "   'quicklook_url': \"https://scihub.copernicus.eu/dhus/odata/v1/Products('e72e7ba5-b009-4d9b-8ca4-7df7873485ad')/Products('Quicklook')/$value\",\n",
       "   'node_path': './GRANULE/L2A_T44PLS_A038440_20221101T045941/QI_DATA/FORMAT_CORRECTNESS.xml',\n",
       "   'nodes': {...},\n",
       "   'sha3-256': 'f0c384a0bc8f431806dc424d32bc73936e75c259be43d0bd271a845e4df611ce',\n",
       "   'path': PosixPath('/Users/chetan/PycharmProjects/cogs/S2A_MSIL2A_20221101T045941_N0400_R119_T44PLS_20221101T091457.SAFE/GRANULE/L2A_T44PLS_A038440_20221101T045941/QI_DATA/FORMAT_CORRECTNESS.xml'),\n",
       "   'downloaded_bytes': 0},\n",
       "  './GRANULE/L2A_T44PLS_A038440_20221101T045941/QI_DATA/GENERAL_QUALITY.xml': {'id': 'e72e7ba5-b009-4d9b-8ca4-7df7873485ad',\n",
       "   'title': 'S2A_MSIL2A_20221101T045941_N0400_R119_T44PLS_20221101T091457',\n",
       "   'size': 4041,\n",
       "   'md5': '1e36666ca88ee135f00677251cce399a',\n",
       "   'date': datetime.datetime(2022, 11, 1, 4, 59, 41, 24000),\n",
       "   'footprint': 'POLYGON((79.17044276734362 10.850043609987958,80.1747533016957 10.854374836688937,80.17734657695293 9.861405801695572,79.17618891454158 9.857478810184183,79.17044276734362 10.850043609987958))',\n",
       "   'url': \"https://scihub.copernicus.eu/dhus/odata/v1/Products('e72e7ba5-b009-4d9b-8ca4-7df7873485ad')/Nodes('S2A_MSIL2A_20221101T045941_N0400_R119_T44PLS_20221101T091457.SAFE')/Nodes('GRANULE')/Nodes('L2A_T44PLS_A038440_20221101T045941')/Nodes('QI_DATA')/Nodes('GENERAL_QUALITY.xml')/$value\",\n",
       "   'Online': True,\n",
       "   'Creation Date': datetime.datetime(2022, 11, 1, 11, 47, 6, 627000),\n",
       "   'Ingestion Date': datetime.datetime(2022, 11, 1, 11, 46, 58, 411000),\n",
       "   'quicklook_url': \"https://scihub.copernicus.eu/dhus/odata/v1/Products('e72e7ba5-b009-4d9b-8ca4-7df7873485ad')/Products('Quicklook')/$value\",\n",
       "   'node_path': './GRANULE/L2A_T44PLS_A038440_20221101T045941/QI_DATA/GENERAL_QUALITY.xml',\n",
       "   'nodes': {...},\n",
       "   'sha3-256': '69212b46d435de5789dd6e57f1c9afaa9aa44c8a43d65b3456cc316d7eafafaa',\n",
       "   'path': PosixPath('/Users/chetan/PycharmProjects/cogs/S2A_MSIL2A_20221101T045941_N0400_R119_T44PLS_20221101T091457.SAFE/GRANULE/L2A_T44PLS_A038440_20221101T045941/QI_DATA/GENERAL_QUALITY.xml'),\n",
       "   'downloaded_bytes': 0},\n",
       "  './GRANULE/L2A_T44PLS_A038440_20221101T045941/QI_DATA/GEOMETRIC_QUALITY.xml': {'id': 'e72e7ba5-b009-4d9b-8ca4-7df7873485ad',\n",
       "   'title': 'S2A_MSIL2A_20221101T045941_N0400_R119_T44PLS_20221101T091457',\n",
       "   'size': 4889,\n",
       "   'md5': '1e36666ca88ee135f00677251cce399a',\n",
       "   'date': datetime.datetime(2022, 11, 1, 4, 59, 41, 24000),\n",
       "   'footprint': 'POLYGON((79.17044276734362 10.850043609987958,80.1747533016957 10.854374836688937,80.17734657695293 9.861405801695572,79.17618891454158 9.857478810184183,79.17044276734362 10.850043609987958))',\n",
       "   'url': \"https://scihub.copernicus.eu/dhus/odata/v1/Products('e72e7ba5-b009-4d9b-8ca4-7df7873485ad')/Nodes('S2A_MSIL2A_20221101T045941_N0400_R119_T44PLS_20221101T091457.SAFE')/Nodes('GRANULE')/Nodes('L2A_T44PLS_A038440_20221101T045941')/Nodes('QI_DATA')/Nodes('GEOMETRIC_QUALITY.xml')/$value\",\n",
       "   'Online': True,\n",
       "   'Creation Date': datetime.datetime(2022, 11, 1, 11, 47, 6, 627000),\n",
       "   'Ingestion Date': datetime.datetime(2022, 11, 1, 11, 46, 58, 411000),\n",
       "   'quicklook_url': \"https://scihub.copernicus.eu/dhus/odata/v1/Products('e72e7ba5-b009-4d9b-8ca4-7df7873485ad')/Products('Quicklook')/$value\",\n",
       "   'node_path': './GRANULE/L2A_T44PLS_A038440_20221101T045941/QI_DATA/GEOMETRIC_QUALITY.xml',\n",
       "   'nodes': {...},\n",
       "   'sha3-256': 'e1ae325e448d516970a48ca0fffe116e9c3a118bb7793d22584829f04aa846f5',\n",
       "   'path': PosixPath('/Users/chetan/PycharmProjects/cogs/S2A_MSIL2A_20221101T045941_N0400_R119_T44PLS_20221101T091457.SAFE/GRANULE/L2A_T44PLS_A038440_20221101T045941/QI_DATA/GEOMETRIC_QUALITY.xml'),\n",
       "   'downloaded_bytes': 0},\n",
       "  './GRANULE/L2A_T44PLS_A038440_20221101T045941/QI_DATA/L2A_QUALITY.xml': {'id': 'e72e7ba5-b009-4d9b-8ca4-7df7873485ad',\n",
       "   'title': 'S2A_MSIL2A_20221101T045941_N0400_R119_T44PLS_20221101T091457',\n",
       "   'size': 7604,\n",
       "   'md5': '1e36666ca88ee135f00677251cce399a',\n",
       "   'date': datetime.datetime(2022, 11, 1, 4, 59, 41, 24000),\n",
       "   'footprint': 'POLYGON((79.17044276734362 10.850043609987958,80.1747533016957 10.854374836688937,80.17734657695293 9.861405801695572,79.17618891454158 9.857478810184183,79.17044276734362 10.850043609987958))',\n",
       "   'url': \"https://scihub.copernicus.eu/dhus/odata/v1/Products('e72e7ba5-b009-4d9b-8ca4-7df7873485ad')/Nodes('S2A_MSIL2A_20221101T045941_N0400_R119_T44PLS_20221101T091457.SAFE')/Nodes('GRANULE')/Nodes('L2A_T44PLS_A038440_20221101T045941')/Nodes('QI_DATA')/Nodes('L2A_QUALITY.xml')/$value\",\n",
       "   'Online': True,\n",
       "   'Creation Date': datetime.datetime(2022, 11, 1, 11, 47, 6, 627000),\n",
       "   'Ingestion Date': datetime.datetime(2022, 11, 1, 11, 46, 58, 411000),\n",
       "   'quicklook_url': \"https://scihub.copernicus.eu/dhus/odata/v1/Products('e72e7ba5-b009-4d9b-8ca4-7df7873485ad')/Products('Quicklook')/$value\",\n",
       "   'node_path': './GRANULE/L2A_T44PLS_A038440_20221101T045941/QI_DATA/L2A_QUALITY.xml',\n",
       "   'nodes': {...},\n",
       "   'sha3-256': 'B2F6F847A9D6904184CF49F27E0BF929F51D849D1C42A7D5627540CCD72EC538',\n",
       "   'path': PosixPath('/Users/chetan/PycharmProjects/cogs/S2A_MSIL2A_20221101T045941_N0400_R119_T44PLS_20221101T091457.SAFE/GRANULE/L2A_T44PLS_A038440_20221101T045941/QI_DATA/L2A_QUALITY.xml'),\n",
       "   'downloaded_bytes': 0},\n",
       "  './GRANULE/L2A_T44PLS_A038440_20221101T045941/QI_DATA/MSK_CLASSI_B00.jp2': {'id': 'e72e7ba5-b009-4d9b-8ca4-7df7873485ad',\n",
       "   'title': 'S2A_MSIL2A_20221101T045941_N0400_R119_T44PLS_20221101T091457',\n",
       "   'size': 7594,\n",
       "   'md5': '1e36666ca88ee135f00677251cce399a',\n",
       "   'date': datetime.datetime(2022, 11, 1, 4, 59, 41, 24000),\n",
       "   'footprint': 'POLYGON((79.17044276734362 10.850043609987958,80.1747533016957 10.854374836688937,80.17734657695293 9.861405801695572,79.17618891454158 9.857478810184183,79.17044276734362 10.850043609987958))',\n",
       "   'url': \"https://scihub.copernicus.eu/dhus/odata/v1/Products('e72e7ba5-b009-4d9b-8ca4-7df7873485ad')/Nodes('S2A_MSIL2A_20221101T045941_N0400_R119_T44PLS_20221101T091457.SAFE')/Nodes('GRANULE')/Nodes('L2A_T44PLS_A038440_20221101T045941')/Nodes('QI_DATA')/Nodes('MSK_CLASSI_B00.jp2')/$value\",\n",
       "   'Online': True,\n",
       "   'Creation Date': datetime.datetime(2022, 11, 1, 11, 47, 6, 627000),\n",
       "   'Ingestion Date': datetime.datetime(2022, 11, 1, 11, 46, 58, 411000),\n",
       "   'quicklook_url': \"https://scihub.copernicus.eu/dhus/odata/v1/Products('e72e7ba5-b009-4d9b-8ca4-7df7873485ad')/Products('Quicklook')/$value\",\n",
       "   'node_path': './GRANULE/L2A_T44PLS_A038440_20221101T045941/QI_DATA/MSK_CLASSI_B00.jp2',\n",
       "   'nodes': {...},\n",
       "   'sha3-256': '6FB626E3E2C752021AB295174955B16FB3BDEB9C5D9CE39DB2F816EF54CB09A0',\n",
       "   'path': PosixPath('/Users/chetan/PycharmProjects/cogs/S2A_MSIL2A_20221101T045941_N0400_R119_T44PLS_20221101T091457.SAFE/GRANULE/L2A_T44PLS_A038440_20221101T045941/QI_DATA/MSK_CLASSI_B00.jp2'),\n",
       "   'downloaded_bytes': 7594},\n",
       "  './GRANULE/L2A_T44PLS_A038440_20221101T045941/QI_DATA/SENSOR_QUALITY.xml': {'id': 'e72e7ba5-b009-4d9b-8ca4-7df7873485ad',\n",
       "   'title': 'S2A_MSIL2A_20221101T045941_N0400_R119_T44PLS_20221101T091457',\n",
       "   'size': 3275,\n",
       "   'md5': '1e36666ca88ee135f00677251cce399a',\n",
       "   'date': datetime.datetime(2022, 11, 1, 4, 59, 41, 24000),\n",
       "   'footprint': 'POLYGON((79.17044276734362 10.850043609987958,80.1747533016957 10.854374836688937,80.17734657695293 9.861405801695572,79.17618891454158 9.857478810184183,79.17044276734362 10.850043609987958))',\n",
       "   'url': \"https://scihub.copernicus.eu/dhus/odata/v1/Products('e72e7ba5-b009-4d9b-8ca4-7df7873485ad')/Nodes('S2A_MSIL2A_20221101T045941_N0400_R119_T44PLS_20221101T091457.SAFE')/Nodes('GRANULE')/Nodes('L2A_T44PLS_A038440_20221101T045941')/Nodes('QI_DATA')/Nodes('SENSOR_QUALITY.xml')/$value\",\n",
       "   'Online': True,\n",
       "   'Creation Date': datetime.datetime(2022, 11, 1, 11, 47, 6, 627000),\n",
       "   'Ingestion Date': datetime.datetime(2022, 11, 1, 11, 46, 58, 411000),\n",
       "   'quicklook_url': \"https://scihub.copernicus.eu/dhus/odata/v1/Products('e72e7ba5-b009-4d9b-8ca4-7df7873485ad')/Products('Quicklook')/$value\",\n",
       "   'node_path': './GRANULE/L2A_T44PLS_A038440_20221101T045941/QI_DATA/SENSOR_QUALITY.xml',\n",
       "   'nodes': {...},\n",
       "   'sha3-256': '282b882eb7002e78130d1ed85c94275d4aa983b737356a034fbb35b5457f307c',\n",
       "   'path': PosixPath('/Users/chetan/PycharmProjects/cogs/S2A_MSIL2A_20221101T045941_N0400_R119_T44PLS_20221101T091457.SAFE/GRANULE/L2A_T44PLS_A038440_20221101T045941/QI_DATA/SENSOR_QUALITY.xml'),\n",
       "   'downloaded_bytes': 0}}}"
      ]
     },
     "execution_count": 24,
     "metadata": {},
     "output_type": "execute_result"
    }
   ],
   "source": [
    "api.download('e72e7ba5-b009-4d9b-8ca4-7df7873485ad',nodefilter=chain_filter_list)"
   ]
  }
 ],
 "metadata": {
  "interpreter": {
   "hash": "8239c69fc7313602f9a1cd1637e4e1142d7b5de4c803dee72f2d5df439a95b86"
  },
  "kernelspec": {
   "display_name": "Python 3.8.13 ('imatest12')",
   "language": "python",
   "name": "python3"
  },
  "language_info": {
   "codemirror_mode": {
    "name": "ipython",
    "version": 3
   },
   "file_extension": ".py",
   "mimetype": "text/x-python",
   "name": "python",
   "nbconvert_exporter": "python",
   "pygments_lexer": "ipython3",
   "version": "3.8.13"
  },
  "orig_nbformat": 4
 },
 "nbformat": 4,
 "nbformat_minor": 2
}
